{
 "cells": [
  {
   "cell_type": "markdown",
   "metadata": {},
   "source": [
    "# Financial Planning with APIs and Simulations\n",
    "\n",
    "In this Challenge, you’ll create two financial analysis tools by using a single Jupyter notebook:\n",
    "\n",
    "Part 1: A financial planner for emergencies. The members will be able to use this tool to visualize their current savings. The members can then determine if they have enough reserves for an emergency fund.\n",
    "\n",
    "Part 2: A financial planner for retirement. This tool will forecast the performance of their retirement portfolio in 30 years. To do this, the tool will make an Alpaca API call via the Alpaca SDK to get historical price data for use in Monte Carlo simulations.\n",
    "\n",
    "You’ll use the information from the Monte Carlo simulation to answer questions about the portfolio in your Jupyter notebook.\n",
    "\n"
   ]
  },
  {
   "cell_type": "code",
   "execution_count": 5,
   "metadata": {},
   "outputs": [],
   "source": [
    "# Import the required libraries and dependencies\n",
    "import os\n",
    "import requests\n",
    "import json\n",
    "import pandas as pd\n",
    "from dotenv import load_dotenv\n",
    "import alpaca_trade_api as tradeapi\n",
    "from MCForecastTools import MCSimulation\n",
    "\n",
    "%matplotlib inline"
   ]
  },
  {
   "cell_type": "code",
   "execution_count": 6,
   "metadata": {},
   "outputs": [
    {
     "data": {
      "text/plain": [
       "True"
      ]
     },
     "execution_count": 6,
     "metadata": {},
     "output_type": "execute_result"
    }
   ],
   "source": [
    "# Load the environment variables from the .env file\n",
    "#by calling the load_dotenv function\n",
    "load_dotenv()"
   ]
  },
  {
   "cell_type": "markdown",
   "metadata": {},
   "source": [
    "## Part 1: Create a Financial Planner for Emergencies"
   ]
  },
  {
   "cell_type": "markdown",
   "metadata": {},
   "source": [
    "### Evaluate the Cryptocurrency Wallet by Using the Requests Library\n",
    "\n",
    "In this section, you’ll determine the current value of a member’s cryptocurrency wallet. You’ll collect the current prices for the Bitcoin and Ethereum cryptocurrencies by using the Python Requests library. For the prototype, you’ll assume that the member holds the 1.2 Bitcoins (BTC) and 5.3 Ethereum coins (ETH). To do all this, complete the following steps:\n",
    "\n",
    "1. Create a variable named `monthly_income`, and set its value to `12000`.\n",
    "\n",
    "2. Use the Requests library to get the current price (in US dollars) of Bitcoin (BTC) and Ethereum (ETH) by using the API endpoints that the starter code supplies.\n",
    "\n",
    "3. Navigate the JSON response object to access the current price of each coin, and store each in a variable.\n",
    "\n",
    "    > **Hint** Note the specific identifier for each cryptocurrency in the API JSON response. The Bitcoin identifier is `1`, and the Ethereum identifier is `1027`.\n",
    "\n",
    "4. Calculate the value, in US dollars, of the current amount of each cryptocurrency and of the entire cryptocurrency wallet.\n",
    "\n"
   ]
  },
  {
   "cell_type": "code",
   "execution_count": 7,
   "metadata": {},
   "outputs": [],
   "source": [
    "# The current number of coins for each cryptocurrency asset held in the portfolio.\n",
    "btc_coins = 1.2\n",
    "eth_coins = 5.3"
   ]
  },
  {
   "cell_type": "markdown",
   "metadata": {},
   "source": [
    "#### Step 1: Create a variable named `monthly_income`, and set its value to `12000`."
   ]
  },
  {
   "cell_type": "code",
   "execution_count": 8,
   "metadata": {},
   "outputs": [],
   "source": [
    "# The monthly amount for the member's household income\n",
    "monthly_income = 12000"
   ]
  },
  {
   "cell_type": "markdown",
   "metadata": {},
   "source": [
    "#### Review the endpoint URLs for the API calls to Free Crypto API in order to get the current pricing information for both BTC and ETH."
   ]
  },
  {
   "cell_type": "code",
   "execution_count": 9,
   "metadata": {},
   "outputs": [],
   "source": [
    "# The Free Crypto API Call endpoint URLs for the held cryptocurrency assets\n",
    "btc_url = \"https://api.alternative.me/v2/ticker/Bitcoin/?convert=USD\"\n",
    "eth_url = \"https://api.alternative.me/v2/ticker/Ethereum/?convert=USD\""
   ]
  },
  {
   "cell_type": "markdown",
   "metadata": {},
   "source": [
    "#### Step 2. Use the Requests library to get the current price (in US dollars) of Bitcoin (BTC) and Ethereum (ETH) by using the API endpoints that the starter code supplied."
   ]
  },
  {
   "cell_type": "code",
   "execution_count": 10,
   "metadata": {},
   "outputs": [
    {
     "name": "stdout",
     "output_type": "stream",
     "text": [
      "{\n",
      "    \"data\": {\n",
      "        \"1\": {\n",
      "            \"circulating_supply\": 19112806,\n",
      "            \"id\": 1,\n",
      "            \"last_updated\": 1659684884,\n",
      "            \"max_supply\": 21000000,\n",
      "            \"name\": \"Bitcoin\",\n",
      "            \"quotes\": {\n",
      "                \"USD\": {\n",
      "                    \"market_cap\": 443888178382,\n",
      "                    \"percent_change_1h\": -0.457314826826711,\n",
      "                    \"percent_change_24h\": 0.733043920181773,\n",
      "                    \"percent_change_7d\": -2.59580350334112,\n",
      "                    \"percentage_change_1h\": -0.457314826826711,\n",
      "                    \"percentage_change_24h\": 0.733043920181773,\n",
      "                    \"percentage_change_7d\": -2.59580350334112,\n",
      "                    \"price\": 23204.0,\n",
      "                    \"volume_24h\": 24566790759\n",
      "                }\n",
      "            },\n",
      "            \"rank\": 1,\n",
      "            \"symbol\": \"BTC\",\n",
      "            \"total_supply\": 19112806,\n",
      "            \"website_slug\": \"bitcoin\"\n",
      "        }\n",
      "    },\n",
      "    \"metadata\": {\n",
      "        \"error\": null,\n",
      "        \"num_cryptocurrencies\": 3116,\n",
      "        \"timestamp\": 1659684884\n",
      "    }\n",
      "}\n"
     ]
    }
   ],
   "source": [
    "# Using the Python requests library, make an API call to access the current price of BTC\n",
    "btc_response = requests.get(\"https://api.alternative.me/v2/ticker/Bitcoin/?convert=USD\").json()\n",
    "\n",
    "# Use the json.dumps function to review the response data from the API call\n",
    "# Use the indent and sort_keys parameters to make the response object readable\n",
    "print(json.dumps(btc_response,indent=4,sort_keys=True))"
   ]
  },
  {
   "cell_type": "code",
   "execution_count": 11,
   "metadata": {},
   "outputs": [
    {
     "name": "stdout",
     "output_type": "stream",
     "text": [
      "{\n",
      "    \"data\": {\n",
      "        \"1027\": {\n",
      "            \"circulating_supply\": 119968324,\n",
      "            \"id\": 1027,\n",
      "            \"last_updated\": 1659684862,\n",
      "            \"max_supply\": 119967668,\n",
      "            \"name\": \"Ethereum\",\n",
      "            \"quotes\": {\n",
      "                \"USD\": {\n",
      "                    \"market_cap\": 199648317569,\n",
      "                    \"percent_change_1h\": -0.212845726600269,\n",
      "                    \"percent_change_24h\": 1.8984246117887,\n",
      "                    \"percent_change_7d\": -3.40705895918904,\n",
      "                    \"percentage_change_1h\": -0.212845726600269,\n",
      "                    \"percentage_change_24h\": 1.8984246117887,\n",
      "                    \"percentage_change_7d\": -3.40705895918904,\n",
      "                    \"price\": 1664.83,\n",
      "                    \"volume_24h\": 14647515404\n",
      "                }\n",
      "            },\n",
      "            \"rank\": 2,\n",
      "            \"symbol\": \"ETH\",\n",
      "            \"total_supply\": 119968324,\n",
      "            \"website_slug\": \"ethereum\"\n",
      "        }\n",
      "    },\n",
      "    \"metadata\": {\n",
      "        \"error\": null,\n",
      "        \"num_cryptocurrencies\": 3116,\n",
      "        \"timestamp\": 1659684862\n",
      "    }\n",
      "}\n"
     ]
    }
   ],
   "source": [
    "# Using the Python requests library, make an API call to access the current price ETH\n",
    "eth_response = requests.get(\"https://api.alternative.me/v2/ticker/Ethereum/?convert=USD\").json()\n",
    "\n",
    "# Use the json.dumps function to review the response data from the API call\n",
    "# Use the indent and sort_keys parameters to make the response object readable\n",
    "print(json.dumps(eth_response,indent=4,sort_keys=True))"
   ]
  },
  {
   "cell_type": "markdown",
   "metadata": {},
   "source": [
    "#### Step 3: Navigate the JSON response object to access the current price of each coin, and store each in a variable."
   ]
  },
  {
   "cell_type": "code",
   "execution_count": 12,
   "metadata": {},
   "outputs": [
    {
     "data": {
      "text/plain": [
       "23204.0"
      ]
     },
     "execution_count": 12,
     "metadata": {},
     "output_type": "execute_result"
    }
   ],
   "source": [
    "# Navigate the BTC response object to access the current price of BTC\n",
    "btc_price = btc_response['data']['1']['quotes']['USD']['price']\n",
    "\n",
    "# Print the current price of BTC\n",
    "btc_price"
   ]
  },
  {
   "cell_type": "code",
   "execution_count": 13,
   "metadata": {},
   "outputs": [
    {
     "data": {
      "text/plain": [
       "1664.83"
      ]
     },
     "execution_count": 13,
     "metadata": {},
     "output_type": "execute_result"
    }
   ],
   "source": [
    "# Navigate the BTC response object to access the current price of ETH\n",
    "eth_price = eth_response['data']['1027']['quotes']['USD']['price']\n",
    "\n",
    "# Print the current price of ETH\n",
    "eth_price"
   ]
  },
  {
   "cell_type": "markdown",
   "metadata": {},
   "source": [
    "### Step 4: Calculate the value, in US dollars, of the current amount of each cryptocurrency and of the entire cryptocurrency wallet."
   ]
  },
  {
   "cell_type": "code",
   "execution_count": 14,
   "metadata": {},
   "outputs": [
    {
     "name": "stdout",
     "output_type": "stream",
     "text": [
      "Your BTC holding value is currently at $27844.80\n"
     ]
    }
   ],
   "source": [
    "# Compute the current value of the BTC holding \n",
    "btc_value = btc_coins*btc_price\n",
    "\n",
    "# Print current value of your holding in BTC\n",
    "print(f'Your BTC holding value is currently at ${(btc_value):.2f}')"
   ]
  },
  {
   "cell_type": "code",
   "execution_count": 15,
   "metadata": {},
   "outputs": [
    {
     "name": "stdout",
     "output_type": "stream",
     "text": [
      "Your ETH holding value is currently at $8823.60\n"
     ]
    }
   ],
   "source": [
    "# Compute the current value of the ETH holding \n",
    "eth_value = eth_coins*eth_price\n",
    "\n",
    "# Print current value of your holding in ETH\n",
    "print(f'Your ETH holding value is currently at ${(eth_value):.2f}')"
   ]
  },
  {
   "cell_type": "code",
   "execution_count": 16,
   "metadata": {},
   "outputs": [
    {
     "name": "stdout",
     "output_type": "stream",
     "text": [
      "Your total cryptocurrency wallet balance is $36668.40\n"
     ]
    }
   ],
   "source": [
    "# Compute the total value of the cryptocurrency wallet\n",
    "# Add the value of the BTC holding to the value of the ETH holding\n",
    "total_crypto_wallet = btc_value + eth_value\n",
    "\n",
    "# Print current cryptocurrency wallet balance\n",
    "print(f'Your total cryptocurrency wallet balance is ${(total_crypto_wallet):.2f}')"
   ]
  },
  {
   "cell_type": "markdown",
   "metadata": {},
   "source": [
    "### Evaluate the Stock and Bond Holdings by Using the Alpaca SDK\n",
    "\n",
    "In this section, you’ll determine the current value of a member’s stock and bond holdings. You’ll make an API call to Alpaca via the Alpaca SDK to get the current closing prices of the SPDR S&P 500 ETF Trust (ticker: SPY) and of the iShares Core US Aggregate Bond ETF (ticker: AGG). For the prototype, assume that the member holds 110 shares of SPY, which represents the stock portion of their portfolio, and 200 shares of AGG, which represents the bond portion. To do all this, complete the following steps:\n",
    "\n",
    "1. In the `Starter_Code` folder, create an environment file (`.env`) to store the values of your Alpaca API key and Alpaca secret key.\n",
    "\n",
    "2. Set the variables for the Alpaca API and secret keys. Using the Alpaca SDK, create the Alpaca `tradeapi.REST` object. In this object, include the parameters for the Alpaca API key, the secret key, and the version number.\n",
    "\n",
    "3. Set the following parameters for the Alpaca API call:\n",
    "\n",
    "    - `tickers`: Use the tickers for the member’s stock and bond holdings.\n",
    "\n",
    "    - `timeframe`: Use a time frame of one day.\n",
    "\n",
    "    - `start_date` and `end_date`: Use the same date for these parameters, and format them with the date of the previous weekday (or `2020-08-07`). This is because you want the one closing price for the most-recent trading day.\n",
    "\n",
    "4. Get the current closing prices for `SPY` and `AGG` by using the Alpaca `get_bars` function. Format the response as a Pandas DataFrame by including the `df` property at the end of the `get_bars` function.\n",
    "\n",
    "5. Navigating the Alpaca response DataFrame, select the `SPY` and `AGG` closing prices, and store them as variables.\n",
    "\n",
    "6. Calculate the value, in US dollars, of the current amount of shares in each of the stock and bond portions of the portfolio, and print the results.\n"
   ]
  },
  {
   "cell_type": "markdown",
   "metadata": {},
   "source": [
    "#### Review the total number of shares held in both (SPY) and (AGG)."
   ]
  },
  {
   "cell_type": "code",
   "execution_count": 17,
   "metadata": {},
   "outputs": [],
   "source": [
    "# Current amount of shares held in both the stock (SPY) and bond (AGG) portion of the portfolio.\n",
    "spy_shares = 110\n",
    "agg_shares = 200\n"
   ]
  },
  {
   "cell_type": "markdown",
   "metadata": {},
   "source": [
    "#### Step 1: In the `Starter_Code` folder, create an environment file (`.env`) to store the values of your Alpaca API key and Alpaca secret key."
   ]
  },
  {
   "cell_type": "markdown",
   "metadata": {},
   "source": [
    "#### Step 2: Set the variables for the Alpaca API and secret keys. Using the Alpaca SDK, create the Alpaca `tradeapi.REST` object. In this object, include the parameters for the Alpaca API key, the secret key, and the version number."
   ]
  },
  {
   "cell_type": "code",
   "execution_count": 18,
   "metadata": {},
   "outputs": [
    {
     "data": {
      "text/plain": [
       "str"
      ]
     },
     "metadata": {},
     "output_type": "display_data"
    },
    {
     "data": {
      "text/plain": [
       "str"
      ]
     },
     "metadata": {},
     "output_type": "display_data"
    }
   ],
   "source": [
    "# Set the variables for the Alpaca API and secret keys\n",
    "alpaca_api_key = os.getenv(\"ALPACA_API_KEY\")\n",
    "alpaca_secret_key = os.getenv(\"ALPACA_SECRET_KEY\")\n",
    "display(type(alpaca_api_key))\n",
    "display(type(alpaca_secret_key))\n",
    "# Create the Alpaca tradeapi.REST object\n",
    "alpaca = tradeapi.REST(\n",
    "    alpaca_api_key,\n",
    "    alpaca_secret_key,\n",
    "    api_version='v2')"
   ]
  },
  {
   "cell_type": "markdown",
   "metadata": {},
   "source": [
    "#### Step 3: Set the following parameters for the Alpaca API call:\n",
    "\n",
    "- `tickers`: Use the tickers for the member’s stock and bond holdings.\n",
    "\n",
    "- `timeframe`: Use a time frame of one day.\n",
    "\n",
    "- `start_date` and `end_date`: Use the same date for these parameters, and format them with the date of the previous weekday (or `2020-08-07`). This is because you want the one closing price for the most-recent trading day.\n"
   ]
  },
  {
   "cell_type": "code",
   "execution_count": 19,
   "metadata": {},
   "outputs": [],
   "source": [
    "# Set the tickers for both the bond and stock portion of the portfolio\n",
    "tickers = ['SPY','AGG']\n",
    "# Set timeframe to 1Day\n",
    "timeframe = '1Day'\n",
    "# Format current date as ISO format\n",
    "# Set both the start and end date at the date of your prior weekday \n",
    "# This will give you the closing price of the previous trading day\n",
    "# Alternatively you can use a start and end date of 2020-08-07\n",
    "start_date = pd.Timestamp('2020-08-07',tz='America/New_York').isoformat()\n",
    "end_date = pd.Timestamp('2020-08-07',tz='America/New_York').isoformat()"
   ]
  },
  {
   "cell_type": "markdown",
   "metadata": {},
   "source": [
    "#### Step 4: Get the current closing prices for `SPY` and `AGG` by using the Alpaca `get_bars` function. Format the response as a Pandas DataFrame by including the `df` property at the end of the `get_bars` function."
   ]
  },
  {
   "cell_type": "code",
   "execution_count": 20,
   "metadata": {},
   "outputs": [
    {
     "data": {
      "text/html": [
       "<div>\n",
       "<style scoped>\n",
       "    .dataframe tbody tr th:only-of-type {\n",
       "        vertical-align: middle;\n",
       "    }\n",
       "\n",
       "    .dataframe tbody tr th {\n",
       "        vertical-align: top;\n",
       "    }\n",
       "\n",
       "    .dataframe thead tr th {\n",
       "        text-align: left;\n",
       "    }\n",
       "\n",
       "    .dataframe thead tr:last-of-type th {\n",
       "        text-align: right;\n",
       "    }\n",
       "</style>\n",
       "<table border=\"1\" class=\"dataframe\">\n",
       "  <thead>\n",
       "    <tr>\n",
       "      <th></th>\n",
       "      <th colspan=\"7\" halign=\"left\">SPY</th>\n",
       "      <th colspan=\"7\" halign=\"left\">AGG</th>\n",
       "    </tr>\n",
       "    <tr>\n",
       "      <th></th>\n",
       "      <th>open</th>\n",
       "      <th>high</th>\n",
       "      <th>low</th>\n",
       "      <th>close</th>\n",
       "      <th>volume</th>\n",
       "      <th>trade_count</th>\n",
       "      <th>vwap</th>\n",
       "      <th>open</th>\n",
       "      <th>high</th>\n",
       "      <th>low</th>\n",
       "      <th>close</th>\n",
       "      <th>volume</th>\n",
       "      <th>trade_count</th>\n",
       "      <th>vwap</th>\n",
       "    </tr>\n",
       "    <tr>\n",
       "      <th>timestamp</th>\n",
       "      <th></th>\n",
       "      <th></th>\n",
       "      <th></th>\n",
       "      <th></th>\n",
       "      <th></th>\n",
       "      <th></th>\n",
       "      <th></th>\n",
       "      <th></th>\n",
       "      <th></th>\n",
       "      <th></th>\n",
       "      <th></th>\n",
       "      <th></th>\n",
       "      <th></th>\n",
       "      <th></th>\n",
       "    </tr>\n",
       "  </thead>\n",
       "  <tbody>\n",
       "    <tr>\n",
       "      <th>2020-08-07 04:00:00+00:00</th>\n",
       "      <td>333.29</td>\n",
       "      <td>334.88</td>\n",
       "      <td>332.3</td>\n",
       "      <td>334.57</td>\n",
       "      <td>57282821</td>\n",
       "      <td>350100</td>\n",
       "      <td>333.800372</td>\n",
       "      <td>119.66</td>\n",
       "      <td>119.73</td>\n",
       "      <td>119.395</td>\n",
       "      <td>119.43</td>\n",
       "      <td>5559066</td>\n",
       "      <td>15246</td>\n",
       "      <td>119.475306</td>\n",
       "    </tr>\n",
       "  </tbody>\n",
       "</table>\n",
       "</div>"
      ],
      "text/plain": [
       "                              SPY                                   \\\n",
       "                             open    high    low   close    volume   \n",
       "timestamp                                                            \n",
       "2020-08-07 04:00:00+00:00  333.29  334.88  332.3  334.57  57282821   \n",
       "\n",
       "                                                      AGG                   \\\n",
       "                          trade_count        vwap    open    high      low   \n",
       "timestamp                                                                    \n",
       "2020-08-07 04:00:00+00:00      350100  333.800372  119.66  119.73  119.395   \n",
       "\n",
       "                                                                    \n",
       "                            close   volume trade_count        vwap  \n",
       "timestamp                                                           \n",
       "2020-08-07 04:00:00+00:00  119.43  5559066       15246  119.475306  "
      ]
     },
     "execution_count": 20,
     "metadata": {},
     "output_type": "execute_result"
    }
   ],
   "source": [
    "# Use the Alpaca get_bars function to get current closing prices the portfolio\n",
    "# Be sure to set the `df` property after the function to format the response object as a DataFrame\n",
    "closing_df = alpaca.get_bars(\n",
    "    tickers,\n",
    "    timeframe,\n",
    "    start=start_date,\n",
    "    end=end_date\n",
    ").df\n",
    "\n",
    "# Reorganize the DataFrame\n",
    "# Separate ticker data\n",
    "SPY = closing_df[closing_df['symbol']=='SPY'].drop('symbol',axis=1)\n",
    "AGG = closing_df[closing_df['symbol']=='AGG'].drop('symbol',axis=1)\n",
    "# Concatenate the ticker DataFrames\n",
    "closing_df = pd.concat([SPY,AGG],axis=1,keys=['SPY','AGG'])\n",
    "\n",
    "# Review the first 5 rows of the Alpaca DataFrame\n",
    "closing_df.head()"
   ]
  },
  {
   "cell_type": "markdown",
   "metadata": {},
   "source": [
    "#### Step 5: Navigating the Alpaca response DataFrame, select the `SPY` and `AGG` closing prices, and store them as variables."
   ]
  },
  {
   "cell_type": "code",
   "execution_count": 21,
   "metadata": {},
   "outputs": [
    {
     "name": "stdout",
     "output_type": "stream",
     "text": [
      "AGG closing price is at $119.43\n"
     ]
    }
   ],
   "source": [
    "# Access the closing price for AGG from the Alpaca DataFrame\n",
    "# Converting the value to a floating point number\n",
    "agg_close_price = float(closing_df['AGG']['close'])\n",
    "\n",
    "\n",
    "# Print the AGG closing price\n",
    "print(f'AGG closing price is at ${(agg_close_price):.2f}')"
   ]
  },
  {
   "cell_type": "code",
   "execution_count": 22,
   "metadata": {},
   "outputs": [
    {
     "name": "stdout",
     "output_type": "stream",
     "text": [
      "SPY closing price is at $334.57\n"
     ]
    }
   ],
   "source": [
    "# Access the closing price for SPY from the Alpaca DataFrame\n",
    "# Converting the value to a floating point number\n",
    "spy_close_price = float(closing_df['SPY']['close'])\n",
    "\n",
    "# Print the SPY closing price\n",
    "print(f'SPY closing price is at ${(spy_close_price):.2f}')"
   ]
  },
  {
   "cell_type": "markdown",
   "metadata": {},
   "source": [
    "#### Step 6: Calculate the value, in US dollars, of the current amount of shares in each of the stock and bond portions of the portfolio, and print the results."
   ]
  },
  {
   "cell_type": "code",
   "execution_count": 23,
   "metadata": {},
   "outputs": [
    {
     "name": "stdout",
     "output_type": "stream",
     "text": [
      "Current value of the bond portfolio is at $23886.00\n"
     ]
    }
   ],
   "source": [
    "# Calculate the current value of the bond portion of the portfolio\n",
    "agg_value = agg_shares*agg_close_price\n",
    "\n",
    "# Print the current value of the bond portfolio\n",
    "print(f'Current value of the bond portfolio is at ${(agg_value):.2f}')"
   ]
  },
  {
   "cell_type": "code",
   "execution_count": 24,
   "metadata": {},
   "outputs": [
    {
     "name": "stdout",
     "output_type": "stream",
     "text": [
      "Current value of stock portfolio is at $36802.70\n"
     ]
    }
   ],
   "source": [
    "# Calculate the current value of the stock portion of the portfolio\n",
    "spy_value = spy_shares*spy_close_price\n",
    "\n",
    "# Print the current value of the stock portfolio\n",
    "print(f'Current value of stock portfolio is at ${(spy_value):.2f}')"
   ]
  },
  {
   "cell_type": "code",
   "execution_count": 25,
   "metadata": {},
   "outputs": [
    {
     "name": "stdout",
     "output_type": "stream",
     "text": [
      "The current balance of stocks/bond portfolio is $60688.70\n"
     ]
    }
   ],
   "source": [
    "# Calculate the total value of the stock and bond portion of the portfolio\n",
    "total_stocks_bonds = agg_value + spy_value\n",
    "\n",
    "# Print the current balance of the stock and bond portion of the portfolio\n",
    "print(f'The current balance of stocks/bond portfolio is ${(total_stocks_bonds):.2f}')"
   ]
  },
  {
   "cell_type": "code",
   "execution_count": 26,
   "metadata": {},
   "outputs": [
    {
     "name": "stdout",
     "output_type": "stream",
     "text": [
      "The current cryptocurrency wallet balance is at $97357.10\n"
     ]
    }
   ],
   "source": [
    "# Calculate the total value of the member's entire savings portfolio\n",
    "# Add the value of the cryptocurrency walled to the value of the total stocks and bonds\n",
    "total_portfolio = total_stocks_bonds + total_crypto_wallet\n",
    "\n",
    "# Print current cryptocurrency wallet balance\n",
    "print(f'The current cryptocurrency wallet balance is at ${(total_portfolio):.2f}')"
   ]
  },
  {
   "cell_type": "markdown",
   "metadata": {},
   "source": [
    "### Evaluate the Emergency Fund\n",
    "\n",
    "In this section, you’ll use the valuations for the cryptocurrency wallet and for the stock and bond portions of the portfolio to determine if the credit union member has enough savings to build an emergency fund into their financial plan. To do this, complete the following steps:\n",
    "\n",
    "1. Create a Python list named `savings_data` that has two elements. The first element contains the total value of the cryptocurrency wallet. The second element contains the total value of the stock and bond portions of the portfolio.\n",
    "\n",
    "2. Use the `savings_data` list to create a Pandas DataFrame named `savings_df`, and then display this DataFrame. The function to create the DataFrame should take the following three parameters:\n",
    "\n",
    "    - `savings_data`: Use the list that you just created.\n",
    "\n",
    "    - `columns`: Set this parameter equal to a Python list with a single value called `amount`.\n",
    "\n",
    "    - `index`: Set this parameter equal to a Python list with the values of `crypto` and `stock/bond`.\n",
    "\n",
    "3. Use the `savings_df` DataFrame to plot a pie chart that visualizes the composition of the member’s portfolio. The y-axis of the pie chart uses `amount`. Be sure to add a title.\n",
    "\n",
    "4. Using Python, determine if the current portfolio has enough to create an emergency fund as part of the member’s financial plan. Ideally, an emergency fund should equal to three times the member’s monthly income. To do this, implement the following steps:\n",
    "\n",
    "    1. Create a variable named `emergency_fund_value`, and set it equal to three times the value of the member’s `monthly_income` of $12000. (You set this earlier in Part 1).\n",
    "\n",
    "    2. Create a series of three if statements to determine if the member’s total portfolio is large enough to fund the emergency portfolio:\n",
    "\n",
    "        1. If the total portfolio value is greater than the emergency fund value, display a message congratulating the member for having enough money in this fund.\n",
    "\n",
    "        2. Else if the total portfolio value is equal to the emergency fund value, display a message congratulating the member on reaching this important financial goal.\n",
    "\n",
    "        3. Else the total portfolio is less than the emergency fund value, so display a message showing how many dollars away the member is from reaching the goal. (Subtract the total portfolio value from the emergency fund value.)\n"
   ]
  },
  {
   "cell_type": "markdown",
   "metadata": {},
   "source": [
    "#### Step 1: Create a Python list named `savings_data` that has two elements. The first element contains the total value of the cryptocurrency wallet. The second element contains the total value of the stock and bond portions of the portfolio."
   ]
  },
  {
   "cell_type": "code",
   "execution_count": 27,
   "metadata": {},
   "outputs": [
    {
     "data": {
      "text/plain": [
       "[36668.399, 60688.7]"
      ]
     },
     "execution_count": 27,
     "metadata": {},
     "output_type": "execute_result"
    }
   ],
   "source": [
    "# Consolidate financial assets data into a Python list\n",
    "savings_data = [total_crypto_wallet,total_stocks_bonds]\n",
    "# Review the Python list savings_data\n",
    "savings_data    "
   ]
  },
  {
   "cell_type": "markdown",
   "metadata": {},
   "source": [
    "#### Step 2: Use the `savings_data` list to create a Pandas DataFrame named `savings_df`, and then display this DataFrame. The function to create the DataFrame should take the following three parameters:\n",
    "\n",
    "- `savings_data`: Use the list that you just created.\n",
    "\n",
    "- `columns`: Set this parameter equal to a Python list with a single value called `amount`.\n",
    "\n",
    "- `index`: Set this parameter equal to a Python list with the values of `crypto` and `stock/bond`.\n"
   ]
  },
  {
   "cell_type": "code",
   "execution_count": 28,
   "metadata": {},
   "outputs": [
    {
     "data": {
      "text/html": [
       "<div>\n",
       "<style scoped>\n",
       "    .dataframe tbody tr th:only-of-type {\n",
       "        vertical-align: middle;\n",
       "    }\n",
       "\n",
       "    .dataframe tbody tr th {\n",
       "        vertical-align: top;\n",
       "    }\n",
       "\n",
       "    .dataframe thead th {\n",
       "        text-align: right;\n",
       "    }\n",
       "</style>\n",
       "<table border=\"1\" class=\"dataframe\">\n",
       "  <thead>\n",
       "    <tr style=\"text-align: right;\">\n",
       "      <th></th>\n",
       "      <th>amount</th>\n",
       "    </tr>\n",
       "  </thead>\n",
       "  <tbody>\n",
       "    <tr>\n",
       "      <th>crypto</th>\n",
       "      <td>36668.399</td>\n",
       "    </tr>\n",
       "    <tr>\n",
       "      <th>stock/bond</th>\n",
       "      <td>60688.700</td>\n",
       "    </tr>\n",
       "  </tbody>\n",
       "</table>\n",
       "</div>"
      ],
      "text/plain": [
       "               amount\n",
       "crypto      36668.399\n",
       "stock/bond  60688.700"
      ]
     },
     "execution_count": 28,
     "metadata": {},
     "output_type": "execute_result"
    }
   ],
   "source": [
    "# Create a Pandas DataFrame called savings_df \n",
    "savings_df = pd.DataFrame(\n",
    "    savings_data,\n",
    "    columns=['amount'],\n",
    "    index=['crypto','stock/bond']\n",
    ")\n",
    "# Display the savings_df DataFrame\n",
    "savings_df"
   ]
  },
  {
   "cell_type": "markdown",
   "metadata": {},
   "source": [
    "#### Step 3: Use the `savings_df` DataFrame to plot a pie chart that visualizes the composition of the member’s portfolio. The y-axis of the pie chart uses `amount`. Be sure to add a title."
   ]
  },
  {
   "cell_type": "code",
   "execution_count": 29,
   "metadata": {},
   "outputs": [
    {
     "data": {
      "text/plain": [
       "<AxesSubplot:title={'center':'Members crypto & stock/bond pie chart'}, ylabel='amount'>"
      ]
     },
     "execution_count": 29,
     "metadata": {},
     "output_type": "execute_result"
    },
    {
     "data": {
      "image/png": "[encoded data removed]",
      "text/plain": [
       "<Figure size 1080x720 with 1 Axes>"
      ]
     },
     "metadata": {},
     "output_type": "display_data"
    }
   ],
   "source": [
    "# Plot the total value of the member's portfolio (crypto and stock/bond) in a pie chart\n",
    "savings_df.plot.pie(y='amount',title='Members crypto & stock/bond pie chart', figsize=(15,10))"
   ]
  },
  {
   "cell_type": "markdown",
   "metadata": {},
   "source": [
    "#### Step 4: Using Python, determine if the current portfolio has enough to create an emergency fund as part of the member’s financial plan. Ideally, an emergency fund should equal to three times the member’s monthly income. To do this, implement the following steps:\n",
    "\n",
    "Step 1. Create a variable named `emergency_fund_value`, and set it equal to three times the value of the member’s `monthly_income` of 12000. (You set this earlier in Part 1).\n",
    "\n",
    "Step 2. Create a series of three if statements to determine if the member’s total portfolio is large enough to fund the emergency portfolio:\n",
    "\n",
    "* If the total portfolio value is greater than the emergency fund value, display a message congratulating the member for having enough money in this fund.\n",
    "\n",
    "* Else if the total portfolio value is equal to the emergency fund value, display a message congratulating the member on reaching this important financial goal.\n",
    "\n",
    "* Else the total portfolio is less than the emergency fund value, so display a message showing how many dollars away the member is from reaching the goal. (Subtract the total portfolio value from the emergency fund value.)\n"
   ]
  },
  {
   "cell_type": "markdown",
   "metadata": {},
   "source": [
    "##### Step 4-1: Create a variable named `emergency_fund_value`, and set it equal to three times the value of the member’s `monthly_income` of 12000. (You set this earlier in Part 1)."
   ]
  },
  {
   "cell_type": "code",
   "execution_count": 103,
   "metadata": {},
   "outputs": [
    {
     "name": "stdout",
     "output_type": "stream",
     "text": [
      "Emergency fund value is $36000.00\n"
     ]
    }
   ],
   "source": [
    "# Create a variable named emergency_fund_value\n",
    "emergency_fund_value = (3 * monthly_income)\n",
    "\n",
    "print(f'Emergency fund value is ${(emergency_fund_value):.2f}')"
   ]
  },
  {
   "cell_type": "markdown",
   "metadata": {},
   "source": [
    "##### Step 4-2: Create a series of three if statements to determine if the member’s total portfolio is large enough to fund the emergency portfolio:\n",
    "\n",
    "* If the total portfolio value is greater than the emergency fund value, display a message congratulating the member for having enough money in this fund.\n",
    "\n",
    "* Else if the total portfolio value is equal to the emergency fund value, display a message congratulating the member on reaching this important financial goal.\n",
    "\n",
    "* Else the total portfolio is less than the emergency fund value, so display a message showing how many dollars away the member is from reaching the goal. (Subtract the total portfolio value from the emergency fund value.)"
   ]
  },
  {
   "cell_type": "code",
   "execution_count": 104,
   "metadata": {},
   "outputs": [
    {
     "name": "stdout",
     "output_type": "stream",
     "text": [
      "Congratulations for having enough money in this fund.\n"
     ]
    }
   ],
   "source": [
    "# Evaluate the possibility of creating an emergency fund with 3 conditions:\n",
    "if total_portfolio > emergency_fund_value:\n",
    "    print(f'Congratulations for having enough money in this fund.');\n",
    "elif total_portfolio == emergency_fund_value:\n",
    "    print(f'Congratulations on reaching this important financial goal!');\n",
    "else:\n",
    "    total_portfolio < emergency_fund_value\n",
    "    print(f'Member is ${(total_portfolio - emergency_fund_value):.2f} from reaching the goal.')"
   ]
  },
  {
   "cell_type": "markdown",
   "metadata": {},
   "source": [
    "## Part 2: Create a Financial Planner for Retirement"
   ]
  },
  {
   "cell_type": "markdown",
   "metadata": {},
   "source": [
    "### Create the Monte Carlo Simulation\n",
    "\n",
    "In this section, you’ll use the MCForecastTools library to create a Monte Carlo simulation for the member’s savings portfolio. To do this, complete the following steps:\n",
    "\n",
    "1. Make an API call via the Alpaca SDK to get 3 years of historical closing prices for a traditional 60/40 portfolio split: 60% stocks (SPY) and 40% bonds (AGG).\n",
    "\n",
    "2. Run a Monte Carlo simulation of 500 samples and 30 years for the 60/40 portfolio, and then plot the results.The following image shows the overlay line plot resulting from a simulation with these characteristics. However, because a random number generator is used to run each live Monte Carlo simulation, your image will differ slightly from this exact image:\n",
    "\n",
    "![A screenshot depicts the resulting plot.](Images/5-4-monte-carlo-line-plot.png)\n",
    "\n",
    "3. Plot the probability distribution of the Monte Carlo simulation. Plot the probability distribution of the Monte Carlo simulation. The following image shows the histogram plot resulting from a simulation with these characteristics. However, because a random number generator is used to run each live Monte Carlo simulation, your image will differ slightly from this exact image:\n",
    "\n",
    "![A screenshot depicts the histogram plot.](Images/5-4-monte-carlo-histogram.png)\n",
    "\n",
    "4. Generate the summary statistics for the Monte Carlo simulation.\n",
    "\n"
   ]
  },
  {
   "cell_type": "markdown",
   "metadata": {},
   "source": [
    "#### Step 1: Make an API call via the Alpaca SDK to get 3 years of historical closing prices for a traditional 60/40 portfolio split: 60% stocks (SPY) and 40% bonds (AGG)."
   ]
  },
  {
   "cell_type": "code",
   "execution_count": 105,
   "metadata": {},
   "outputs": [],
   "source": [
    "# Set start and end dates of 3 years back from your current date\n",
    "# Alternatively, you can use an end date of 2020-08-07 and work 3 years back from that date \n",
    "start_date= pd.Timestamp('2017-08-07',tz='America/New_York').isoformat()\n",
    "end_date=  pd.Timestamp('2020-08-07',tz='America/New_York').isoformat()"
   ]
  },
  {
   "cell_type": "code",
   "execution_count": 108,
   "metadata": {},
   "outputs": [
    {
     "data": {
      "text/html": [
       "<div>\n",
       "<style scoped>\n",
       "    .dataframe tbody tr th:only-of-type {\n",
       "        vertical-align: middle;\n",
       "    }\n",
       "\n",
       "    .dataframe tbody tr th {\n",
       "        vertical-align: top;\n",
       "    }\n",
       "\n",
       "    .dataframe thead tr th {\n",
       "        text-align: left;\n",
       "    }\n",
       "\n",
       "    .dataframe thead tr:last-of-type th {\n",
       "        text-align: right;\n",
       "    }\n",
       "</style>\n",
       "<table border=\"1\" class=\"dataframe\">\n",
       "  <thead>\n",
       "    <tr>\n",
       "      <th></th>\n",
       "      <th colspan=\"7\" halign=\"left\">SPY</th>\n",
       "      <th colspan=\"7\" halign=\"left\">AGG</th>\n",
       "    </tr>\n",
       "    <tr>\n",
       "      <th></th>\n",
       "      <th>open</th>\n",
       "      <th>high</th>\n",
       "      <th>low</th>\n",
       "      <th>close</th>\n",
       "      <th>volume</th>\n",
       "      <th>trade_count</th>\n",
       "      <th>vwap</th>\n",
       "      <th>open</th>\n",
       "      <th>high</th>\n",
       "      <th>low</th>\n",
       "      <th>close</th>\n",
       "      <th>volume</th>\n",
       "      <th>trade_count</th>\n",
       "      <th>vwap</th>\n",
       "    </tr>\n",
       "    <tr>\n",
       "      <th>timestamp</th>\n",
       "      <th></th>\n",
       "      <th></th>\n",
       "      <th></th>\n",
       "      <th></th>\n",
       "      <th></th>\n",
       "      <th></th>\n",
       "      <th></th>\n",
       "      <th></th>\n",
       "      <th></th>\n",
       "      <th></th>\n",
       "      <th></th>\n",
       "      <th></th>\n",
       "      <th></th>\n",
       "      <th></th>\n",
       "    </tr>\n",
       "  </thead>\n",
       "  <tbody>\n",
       "    <tr>\n",
       "      <th>2020-08-03 04:00:00+00:00</th>\n",
       "      <td>328.31</td>\n",
       "      <td>329.62</td>\n",
       "      <td>327.73</td>\n",
       "      <td>328.79</td>\n",
       "      <td>53080454</td>\n",
       "      <td>288008</td>\n",
       "      <td>328.658804</td>\n",
       "      <td>119.37</td>\n",
       "      <td>119.40</td>\n",
       "      <td>119.1903</td>\n",
       "      <td>119.40</td>\n",
       "      <td>13014535</td>\n",
       "      <td>36359</td>\n",
       "      <td>119.282420</td>\n",
       "    </tr>\n",
       "    <tr>\n",
       "      <th>2020-08-04 04:00:00+00:00</th>\n",
       "      <td>327.88</td>\n",
       "      <td>330.06</td>\n",
       "      <td>327.86</td>\n",
       "      <td>330.06</td>\n",
       "      <td>41918004</td>\n",
       "      <td>250900</td>\n",
       "      <td>329.057593</td>\n",
       "      <td>119.42</td>\n",
       "      <td>119.63</td>\n",
       "      <td>119.4200</td>\n",
       "      <td>119.63</td>\n",
       "      <td>10935154</td>\n",
       "      <td>39113</td>\n",
       "      <td>119.541666</td>\n",
       "    </tr>\n",
       "    <tr>\n",
       "      <th>2020-08-05 04:00:00+00:00</th>\n",
       "      <td>331.46</td>\n",
       "      <td>332.39</td>\n",
       "      <td>331.18</td>\n",
       "      <td>332.11</td>\n",
       "      <td>42870955</td>\n",
       "      <td>241416</td>\n",
       "      <td>331.791643</td>\n",
       "      <td>119.39</td>\n",
       "      <td>119.49</td>\n",
       "      <td>119.3100</td>\n",
       "      <td>119.40</td>\n",
       "      <td>17377874</td>\n",
       "      <td>42313</td>\n",
       "      <td>119.387245</td>\n",
       "    </tr>\n",
       "    <tr>\n",
       "      <th>2020-08-06 04:00:00+00:00</th>\n",
       "      <td>331.52</td>\n",
       "      <td>334.46</td>\n",
       "      <td>331.13</td>\n",
       "      <td>334.33</td>\n",
       "      <td>43745653</td>\n",
       "      <td>290039</td>\n",
       "      <td>332.937218</td>\n",
       "      <td>119.62</td>\n",
       "      <td>119.73</td>\n",
       "      <td>119.5300</td>\n",
       "      <td>119.57</td>\n",
       "      <td>4608710</td>\n",
       "      <td>15938</td>\n",
       "      <td>119.604199</td>\n",
       "    </tr>\n",
       "    <tr>\n",
       "      <th>2020-08-07 04:00:00+00:00</th>\n",
       "      <td>333.29</td>\n",
       "      <td>334.88</td>\n",
       "      <td>332.30</td>\n",
       "      <td>334.57</td>\n",
       "      <td>57282821</td>\n",
       "      <td>350100</td>\n",
       "      <td>333.800372</td>\n",
       "      <td>119.66</td>\n",
       "      <td>119.73</td>\n",
       "      <td>119.3950</td>\n",
       "      <td>119.43</td>\n",
       "      <td>5559066</td>\n",
       "      <td>15246</td>\n",
       "      <td>119.475306</td>\n",
       "    </tr>\n",
       "  </tbody>\n",
       "</table>\n",
       "</div>"
      ],
      "text/plain": [
       "                              SPY                                    \\\n",
       "                             open    high     low   close    volume   \n",
       "timestamp                                                             \n",
       "2020-08-03 04:00:00+00:00  328.31  329.62  327.73  328.79  53080454   \n",
       "2020-08-04 04:00:00+00:00  327.88  330.06  327.86  330.06  41918004   \n",
       "2020-08-05 04:00:00+00:00  331.46  332.39  331.18  332.11  42870955   \n",
       "2020-08-06 04:00:00+00:00  331.52  334.46  331.13  334.33  43745653   \n",
       "2020-08-07 04:00:00+00:00  333.29  334.88  332.30  334.57  57282821   \n",
       "\n",
       "                                                      AGG                    \\\n",
       "                          trade_count        vwap    open    high       low   \n",
       "timestamp                                                                     \n",
       "2020-08-03 04:00:00+00:00      288008  328.658804  119.37  119.40  119.1903   \n",
       "2020-08-04 04:00:00+00:00      250900  329.057593  119.42  119.63  119.4200   \n",
       "2020-08-05 04:00:00+00:00      241416  331.791643  119.39  119.49  119.3100   \n",
       "2020-08-06 04:00:00+00:00      290039  332.937218  119.62  119.73  119.5300   \n",
       "2020-08-07 04:00:00+00:00      350100  333.800372  119.66  119.73  119.3950   \n",
       "\n",
       "                                                                     \n",
       "                            close    volume trade_count        vwap  \n",
       "timestamp                                                            \n",
       "2020-08-03 04:00:00+00:00  119.40  13014535       36359  119.282420  \n",
       "2020-08-04 04:00:00+00:00  119.63  10935154       39113  119.541666  \n",
       "2020-08-05 04:00:00+00:00  119.40  17377874       42313  119.387245  \n",
       "2020-08-06 04:00:00+00:00  119.57   4608710       15938  119.604199  \n",
       "2020-08-07 04:00:00+00:00  119.43   5559066       15246  119.475306  "
      ]
     },
     "execution_count": 108,
     "metadata": {},
     "output_type": "execute_result"
    }
   ],
   "source": [
    "# Use the Alpaca get_bars function to make the API call to get the 3 years worth of pricing data\n",
    "# The tickers and timeframe parameters should have been set in Part 1 of this activity \n",
    "# The start and end dates should be updated with the information set above\n",
    "# Remember to add the df property to the end of the call so the response is returned as a DataFrame\n",
    "prices_df = alpaca.get_bars(\n",
    "    tickers,\n",
    "    timeframe,\n",
    "    start=start_date,\n",
    "    end=end_date\n",
    ").df\n",
    "# Reorganize the DataFrame\n",
    "# Separate ticker data\n",
    "SPY= prices_df[prices_df['symbol']=='SPY'].drop('symbol',axis=1)\n",
    "AGG= prices_df[prices_df['symbol']=='AGG'].drop('symbol',axis=1)\n",
    "\n",
    "# Concatenate the ticker DataFrames\n",
    "prices_df = pd.concat([SPY,AGG],axis=1,keys=['SPY','AGG'])\n",
    "\n",
    "# Display both the first and last five rows of the DataFrame\n",
    "prices_df.head()\n",
    "prices_df.tail()\n"
   ]
  },
  {
   "cell_type": "markdown",
   "metadata": {},
   "source": [
    "#### Step 2: Run a Monte Carlo simulation of 500 samples and 30 years for the 60/40 portfolio, and then plot the results."
   ]
  },
  {
   "cell_type": "code",
   "execution_count": 111,
   "metadata": {},
   "outputs": [
    {
     "data": {
      "text/html": [
       "<div>\n",
       "<style scoped>\n",
       "    .dataframe tbody tr th:only-of-type {\n",
       "        vertical-align: middle;\n",
       "    }\n",
       "\n",
       "    .dataframe tbody tr th {\n",
       "        vertical-align: top;\n",
       "    }\n",
       "\n",
       "    .dataframe thead tr th {\n",
       "        text-align: left;\n",
       "    }\n",
       "\n",
       "    .dataframe thead tr:last-of-type th {\n",
       "        text-align: right;\n",
       "    }\n",
       "</style>\n",
       "<table border=\"1\" class=\"dataframe\">\n",
       "  <thead>\n",
       "    <tr>\n",
       "      <th></th>\n",
       "      <th colspan=\"8\" halign=\"left\">SPY</th>\n",
       "      <th colspan=\"8\" halign=\"left\">AGG</th>\n",
       "    </tr>\n",
       "    <tr>\n",
       "      <th></th>\n",
       "      <th>open</th>\n",
       "      <th>high</th>\n",
       "      <th>low</th>\n",
       "      <th>close</th>\n",
       "      <th>volume</th>\n",
       "      <th>trade_count</th>\n",
       "      <th>vwap</th>\n",
       "      <th>daily_return</th>\n",
       "      <th>open</th>\n",
       "      <th>high</th>\n",
       "      <th>low</th>\n",
       "      <th>close</th>\n",
       "      <th>volume</th>\n",
       "      <th>trade_count</th>\n",
       "      <th>vwap</th>\n",
       "      <th>daily_return</th>\n",
       "    </tr>\n",
       "    <tr>\n",
       "      <th>timestamp</th>\n",
       "      <th></th>\n",
       "      <th></th>\n",
       "      <th></th>\n",
       "      <th></th>\n",
       "      <th></th>\n",
       "      <th></th>\n",
       "      <th></th>\n",
       "      <th></th>\n",
       "      <th></th>\n",
       "      <th></th>\n",
       "      <th></th>\n",
       "      <th></th>\n",
       "      <th></th>\n",
       "      <th></th>\n",
       "      <th></th>\n",
       "      <th></th>\n",
       "    </tr>\n",
       "  </thead>\n",
       "  <tbody>\n",
       "    <tr>\n",
       "      <th>2017-08-07 04:00:00+00:00</th>\n",
       "      <td>247.50</td>\n",
       "      <td>247.87</td>\n",
       "      <td>247.37</td>\n",
       "      <td>247.87</td>\n",
       "      <td>31995021</td>\n",
       "      <td>100111</td>\n",
       "      <td>247.668698</td>\n",
       "      <td>NaN</td>\n",
       "      <td>109.69</td>\n",
       "      <td>109.72</td>\n",
       "      <td>109.6066</td>\n",
       "      <td>109.67</td>\n",
       "      <td>2359826</td>\n",
       "      <td>7755</td>\n",
       "      <td>109.674876</td>\n",
       "      <td>NaN</td>\n",
       "    </tr>\n",
       "    <tr>\n",
       "      <th>2017-08-08 04:00:00+00:00</th>\n",
       "      <td>247.49</td>\n",
       "      <td>248.91</td>\n",
       "      <td>246.83</td>\n",
       "      <td>247.26</td>\n",
       "      <td>61719353</td>\n",
       "      <td>192921</td>\n",
       "      <td>247.739709</td>\n",
       "      <td>-0.002461</td>\n",
       "      <td>109.67</td>\n",
       "      <td>109.69</td>\n",
       "      <td>109.5000</td>\n",
       "      <td>109.57</td>\n",
       "      <td>2570876</td>\n",
       "      <td>12663</td>\n",
       "      <td>109.577636</td>\n",
       "      <td>-0.000912</td>\n",
       "    </tr>\n",
       "    <tr>\n",
       "      <th>2017-08-09 04:00:00+00:00</th>\n",
       "      <td>246.46</td>\n",
       "      <td>247.31</td>\n",
       "      <td>246.06</td>\n",
       "      <td>247.25</td>\n",
       "      <td>62632619</td>\n",
       "      <td>223650</td>\n",
       "      <td>246.791421</td>\n",
       "      <td>-0.000040</td>\n",
       "      <td>109.87</td>\n",
       "      <td>109.87</td>\n",
       "      <td>109.6600</td>\n",
       "      <td>109.67</td>\n",
       "      <td>2308932</td>\n",
       "      <td>11031</td>\n",
       "      <td>109.771749</td>\n",
       "      <td>0.000913</td>\n",
       "    </tr>\n",
       "    <tr>\n",
       "      <th>2017-08-10 04:00:00+00:00</th>\n",
       "      <td>246.30</td>\n",
       "      <td>246.44</td>\n",
       "      <td>243.70</td>\n",
       "      <td>243.76</td>\n",
       "      <td>120418270</td>\n",
       "      <td>424321</td>\n",
       "      <td>245.027847</td>\n",
       "      <td>-0.014115</td>\n",
       "      <td>109.70</td>\n",
       "      <td>109.85</td>\n",
       "      <td>109.6700</td>\n",
       "      <td>109.78</td>\n",
       "      <td>2004163</td>\n",
       "      <td>12437</td>\n",
       "      <td>109.776611</td>\n",
       "      <td>0.001003</td>\n",
       "    </tr>\n",
       "    <tr>\n",
       "      <th>2017-08-11 04:00:00+00:00</th>\n",
       "      <td>244.00</td>\n",
       "      <td>244.80</td>\n",
       "      <td>243.75</td>\n",
       "      <td>244.12</td>\n",
       "      <td>74869947</td>\n",
       "      <td>278786</td>\n",
       "      <td>244.222867</td>\n",
       "      <td>0.001477</td>\n",
       "      <td>109.75</td>\n",
       "      <td>109.94</td>\n",
       "      <td>109.6800</td>\n",
       "      <td>109.87</td>\n",
       "      <td>1913253</td>\n",
       "      <td>10113</td>\n",
       "      <td>109.860974</td>\n",
       "      <td>0.000820</td>\n",
       "    </tr>\n",
       "  </tbody>\n",
       "</table>\n",
       "</div>"
      ],
      "text/plain": [
       "                              SPY                                     \\\n",
       "                             open    high     low   close     volume   \n",
       "timestamp                                                              \n",
       "2017-08-07 04:00:00+00:00  247.50  247.87  247.37  247.87   31995021   \n",
       "2017-08-08 04:00:00+00:00  247.49  248.91  246.83  247.26   61719353   \n",
       "2017-08-09 04:00:00+00:00  246.46  247.31  246.06  247.25   62632619   \n",
       "2017-08-10 04:00:00+00:00  246.30  246.44  243.70  243.76  120418270   \n",
       "2017-08-11 04:00:00+00:00  244.00  244.80  243.75  244.12   74869947   \n",
       "\n",
       "                                                                   AGG  \\\n",
       "                          trade_count        vwap daily_return    open   \n",
       "timestamp                                                                \n",
       "2017-08-07 04:00:00+00:00      100111  247.668698          NaN  109.69   \n",
       "2017-08-08 04:00:00+00:00      192921  247.739709    -0.002461  109.67   \n",
       "2017-08-09 04:00:00+00:00      223650  246.791421    -0.000040  109.87   \n",
       "2017-08-10 04:00:00+00:00      424321  245.027847    -0.014115  109.70   \n",
       "2017-08-11 04:00:00+00:00      278786  244.222867     0.001477  109.75   \n",
       "\n",
       "                                                                          \\\n",
       "                             high       low   close   volume trade_count   \n",
       "timestamp                                                                  \n",
       "2017-08-07 04:00:00+00:00  109.72  109.6066  109.67  2359826        7755   \n",
       "2017-08-08 04:00:00+00:00  109.69  109.5000  109.57  2570876       12663   \n",
       "2017-08-09 04:00:00+00:00  109.87  109.6600  109.67  2308932       11031   \n",
       "2017-08-10 04:00:00+00:00  109.85  109.6700  109.78  2004163       12437   \n",
       "2017-08-11 04:00:00+00:00  109.94  109.6800  109.87  1913253       10113   \n",
       "\n",
       "                                                    \n",
       "                                 vwap daily_return  \n",
       "timestamp                                           \n",
       "2017-08-07 04:00:00+00:00  109.674876          NaN  \n",
       "2017-08-08 04:00:00+00:00  109.577636    -0.000912  \n",
       "2017-08-09 04:00:00+00:00  109.771749     0.000913  \n",
       "2017-08-10 04:00:00+00:00  109.776611     0.001003  \n",
       "2017-08-11 04:00:00+00:00  109.860974     0.000820  "
      ]
     },
     "execution_count": 111,
     "metadata": {},
     "output_type": "execute_result"
    }
   ],
   "source": [
    "# Configure the Monte Carlo simulation to forecast 30 years cumulative returns\n",
    "# The weights should be split 40% to AGG and 60% to SPY.\n",
    "# Run 500 samples.\n",
    "MCS_30y = MCSimulation(\n",
    "    portfolio_data = prices_df,\n",
    "    weights = [.40,.60],\n",
    "    num_simulation = 500,\n",
    "    num_trading_days = 252*30\n",
    ")\n",
    "    \n",
    "# Review the simulation input data\n",
    "MCS_30y.portfolio_data.head()"
   ]
  },
  {
   "cell_type": "code",
   "execution_count": 112,
   "metadata": {},
   "outputs": [
    {
     "name": "stdout",
     "output_type": "stream",
     "text": [
      "Running Monte Carlo simulation number 0.\n",
      "Running Monte Carlo simulation number 10.\n",
      "Running Monte Carlo simulation number 20.\n",
      "Running Monte Carlo simulation number 30.\n",
      "Running Monte Carlo simulation number 40.\n",
      "Running Monte Carlo simulation number 50.\n",
      "Running Monte Carlo simulation number 60.\n",
      "Running Monte Carlo simulation number 70.\n",
      "Running Monte Carlo simulation number 80.\n",
      "Running Monte Carlo simulation number 90.\n",
      "Running Monte Carlo simulation number 100.\n"
     ]
    },
    {
     "name": "stderr",
     "output_type": "stream",
     "text": [
      "/Users/dbyun/Desktop/Mod5Challenge/m5challenge/MCForecastTools.py:117: PerformanceWarning: DataFrame is highly fragmented.  This is usually the result of calling `frame.insert` many times, which has poor performance.  Consider joining all columns at once using pd.concat(axis=1) instead.  To get a de-fragmented frame, use `newframe = frame.copy()`\n",
      "  portfolio_cumulative_returns[n] = (1 + sim_df.fillna(0)).cumprod()\n"
     ]
    },
    {
     "name": "stdout",
     "output_type": "stream",
     "text": [
      "Running Monte Carlo simulation number 110.\n",
      "Running Monte Carlo simulation number 120.\n",
      "Running Monte Carlo simulation number 130.\n",
      "Running Monte Carlo simulation number 140.\n",
      "Running Monte Carlo simulation number 150.\n",
      "Running Monte Carlo simulation number 160.\n",
      "Running Monte Carlo simulation number 170.\n",
      "Running Monte Carlo simulation number 180.\n",
      "Running Monte Carlo simulation number 190.\n",
      "Running Monte Carlo simulation number 200.\n",
      "Running Monte Carlo simulation number 210.\n",
      "Running Monte Carlo simulation number 220.\n",
      "Running Monte Carlo simulation number 230.\n",
      "Running Monte Carlo simulation number 240.\n",
      "Running Monte Carlo simulation number 250.\n",
      "Running Monte Carlo simulation number 260.\n",
      "Running Monte Carlo simulation number 270.\n",
      "Running Monte Carlo simulation number 280.\n",
      "Running Monte Carlo simulation number 290.\n",
      "Running Monte Carlo simulation number 300.\n",
      "Running Monte Carlo simulation number 310.\n",
      "Running Monte Carlo simulation number 320.\n",
      "Running Monte Carlo simulation number 330.\n",
      "Running Monte Carlo simulation number 340.\n",
      "Running Monte Carlo simulation number 350.\n",
      "Running Monte Carlo simulation number 360.\n",
      "Running Monte Carlo simulation number 370.\n",
      "Running Monte Carlo simulation number 380.\n",
      "Running Monte Carlo simulation number 390.\n",
      "Running Monte Carlo simulation number 400.\n",
      "Running Monte Carlo simulation number 410.\n",
      "Running Monte Carlo simulation number 420.\n",
      "Running Monte Carlo simulation number 430.\n",
      "Running Monte Carlo simulation number 440.\n",
      "Running Monte Carlo simulation number 450.\n",
      "Running Monte Carlo simulation number 460.\n",
      "Running Monte Carlo simulation number 470.\n",
      "Running Monte Carlo simulation number 480.\n",
      "Running Monte Carlo simulation number 490.\n"
     ]
    },
    {
     "data": {
      "text/html": [
       "<div>\n",
       "<style scoped>\n",
       "    .dataframe tbody tr th:only-of-type {\n",
       "        vertical-align: middle;\n",
       "    }\n",
       "\n",
       "    .dataframe tbody tr th {\n",
       "        vertical-align: top;\n",
       "    }\n",
       "\n",
       "    .dataframe thead th {\n",
       "        text-align: right;\n",
       "    }\n",
       "</style>\n",
       "<table border=\"1\" class=\"dataframe\">\n",
       "  <thead>\n",
       "    <tr style=\"text-align: right;\">\n",
       "      <th></th>\n",
       "      <th>0</th>\n",
       "      <th>1</th>\n",
       "      <th>2</th>\n",
       "      <th>3</th>\n",
       "      <th>4</th>\n",
       "      <th>5</th>\n",
       "      <th>6</th>\n",
       "      <th>7</th>\n",
       "      <th>8</th>\n",
       "      <th>9</th>\n",
       "      <th>...</th>\n",
       "      <th>490</th>\n",
       "      <th>491</th>\n",
       "      <th>492</th>\n",
       "      <th>493</th>\n",
       "      <th>494</th>\n",
       "      <th>495</th>\n",
       "      <th>496</th>\n",
       "      <th>497</th>\n",
       "      <th>498</th>\n",
       "      <th>499</th>\n",
       "    </tr>\n",
       "  </thead>\n",
       "  <tbody>\n",
       "    <tr>\n",
       "      <th>0</th>\n",
       "      <td>1.000000</td>\n",
       "      <td>1.000000</td>\n",
       "      <td>1.000000</td>\n",
       "      <td>1.000000</td>\n",
       "      <td>1.000000</td>\n",
       "      <td>1.000000</td>\n",
       "      <td>1.000000</td>\n",
       "      <td>1.000000</td>\n",
       "      <td>1.000000</td>\n",
       "      <td>1.000000</td>\n",
       "      <td>...</td>\n",
       "      <td>1.000000</td>\n",
       "      <td>1.000000</td>\n",
       "      <td>1.000000</td>\n",
       "      <td>1.000000</td>\n",
       "      <td>1.000000</td>\n",
       "      <td>1.000000</td>\n",
       "      <td>1.000000</td>\n",
       "      <td>1.000000</td>\n",
       "      <td>1.000000</td>\n",
       "      <td>1.000000</td>\n",
       "    </tr>\n",
       "    <tr>\n",
       "      <th>1</th>\n",
       "      <td>0.988949</td>\n",
       "      <td>1.001171</td>\n",
       "      <td>1.001701</td>\n",
       "      <td>0.995435</td>\n",
       "      <td>1.005337</td>\n",
       "      <td>1.000124</td>\n",
       "      <td>1.013477</td>\n",
       "      <td>0.996308</td>\n",
       "      <td>0.986464</td>\n",
       "      <td>0.989580</td>\n",
       "      <td>...</td>\n",
       "      <td>1.000716</td>\n",
       "      <td>0.999925</td>\n",
       "      <td>1.002940</td>\n",
       "      <td>0.995495</td>\n",
       "      <td>0.991184</td>\n",
       "      <td>0.994673</td>\n",
       "      <td>0.994055</td>\n",
       "      <td>1.006337</td>\n",
       "      <td>0.999458</td>\n",
       "      <td>1.008631</td>\n",
       "    </tr>\n",
       "    <tr>\n",
       "      <th>2</th>\n",
       "      <td>0.984310</td>\n",
       "      <td>1.002138</td>\n",
       "      <td>1.008990</td>\n",
       "      <td>0.990903</td>\n",
       "      <td>0.999922</td>\n",
       "      <td>0.993152</td>\n",
       "      <td>1.027702</td>\n",
       "      <td>1.000629</td>\n",
       "      <td>0.985961</td>\n",
       "      <td>0.992086</td>\n",
       "      <td>...</td>\n",
       "      <td>0.996940</td>\n",
       "      <td>0.996984</td>\n",
       "      <td>1.008488</td>\n",
       "      <td>1.004018</td>\n",
       "      <td>0.992629</td>\n",
       "      <td>0.992556</td>\n",
       "      <td>0.997473</td>\n",
       "      <td>1.009322</td>\n",
       "      <td>1.000320</td>\n",
       "      <td>1.016645</td>\n",
       "    </tr>\n",
       "    <tr>\n",
       "      <th>3</th>\n",
       "      <td>0.976152</td>\n",
       "      <td>0.997210</td>\n",
       "      <td>0.999594</td>\n",
       "      <td>0.991201</td>\n",
       "      <td>0.999779</td>\n",
       "      <td>0.987880</td>\n",
       "      <td>1.017783</td>\n",
       "      <td>1.005718</td>\n",
       "      <td>0.972744</td>\n",
       "      <td>0.991916</td>\n",
       "      <td>...</td>\n",
       "      <td>1.006414</td>\n",
       "      <td>0.998667</td>\n",
       "      <td>1.008286</td>\n",
       "      <td>0.998275</td>\n",
       "      <td>0.989987</td>\n",
       "      <td>0.986239</td>\n",
       "      <td>1.002614</td>\n",
       "      <td>1.023326</td>\n",
       "      <td>1.002644</td>\n",
       "      <td>1.022639</td>\n",
       "    </tr>\n",
       "    <tr>\n",
       "      <th>4</th>\n",
       "      <td>0.967041</td>\n",
       "      <td>1.002656</td>\n",
       "      <td>1.001571</td>\n",
       "      <td>0.988823</td>\n",
       "      <td>1.000059</td>\n",
       "      <td>0.988300</td>\n",
       "      <td>1.022421</td>\n",
       "      <td>1.000173</td>\n",
       "      <td>0.969820</td>\n",
       "      <td>0.995226</td>\n",
       "      <td>...</td>\n",
       "      <td>1.015034</td>\n",
       "      <td>0.999158</td>\n",
       "      <td>1.001753</td>\n",
       "      <td>0.995043</td>\n",
       "      <td>0.995649</td>\n",
       "      <td>0.988847</td>\n",
       "      <td>1.002752</td>\n",
       "      <td>1.022744</td>\n",
       "      <td>1.000634</td>\n",
       "      <td>1.027492</td>\n",
       "    </tr>\n",
       "    <tr>\n",
       "      <th>...</th>\n",
       "      <td>...</td>\n",
       "      <td>...</td>\n",
       "      <td>...</td>\n",
       "      <td>...</td>\n",
       "      <td>...</td>\n",
       "      <td>...</td>\n",
       "      <td>...</td>\n",
       "      <td>...</td>\n",
       "      <td>...</td>\n",
       "      <td>...</td>\n",
       "      <td>...</td>\n",
       "      <td>...</td>\n",
       "      <td>...</td>\n",
       "      <td>...</td>\n",
       "      <td>...</td>\n",
       "      <td>...</td>\n",
       "      <td>...</td>\n",
       "      <td>...</td>\n",
       "      <td>...</td>\n",
       "      <td>...</td>\n",
       "      <td>...</td>\n",
       "    </tr>\n",
       "    <tr>\n",
       "      <th>7556</th>\n",
       "      <td>4.438671</td>\n",
       "      <td>6.914076</td>\n",
       "      <td>4.559351</td>\n",
       "      <td>11.476912</td>\n",
       "      <td>2.735529</td>\n",
       "      <td>2.065807</td>\n",
       "      <td>13.243169</td>\n",
       "      <td>12.749224</td>\n",
       "      <td>7.150957</td>\n",
       "      <td>3.807616</td>\n",
       "      <td>...</td>\n",
       "      <td>5.369020</td>\n",
       "      <td>9.730972</td>\n",
       "      <td>2.728382</td>\n",
       "      <td>13.832423</td>\n",
       "      <td>6.659990</td>\n",
       "      <td>5.122734</td>\n",
       "      <td>6.929869</td>\n",
       "      <td>5.770498</td>\n",
       "      <td>8.268537</td>\n",
       "      <td>5.289907</td>\n",
       "    </tr>\n",
       "    <tr>\n",
       "      <th>7557</th>\n",
       "      <td>4.451433</td>\n",
       "      <td>6.923662</td>\n",
       "      <td>4.524317</td>\n",
       "      <td>11.302439</td>\n",
       "      <td>2.753090</td>\n",
       "      <td>2.054653</td>\n",
       "      <td>13.168944</td>\n",
       "      <td>12.790887</td>\n",
       "      <td>7.182428</td>\n",
       "      <td>3.814132</td>\n",
       "      <td>...</td>\n",
       "      <td>5.313563</td>\n",
       "      <td>9.814224</td>\n",
       "      <td>2.732949</td>\n",
       "      <td>13.848464</td>\n",
       "      <td>6.641245</td>\n",
       "      <td>5.168864</td>\n",
       "      <td>6.978754</td>\n",
       "      <td>5.771432</td>\n",
       "      <td>8.336381</td>\n",
       "      <td>5.298401</td>\n",
       "    </tr>\n",
       "    <tr>\n",
       "      <th>7558</th>\n",
       "      <td>4.423021</td>\n",
       "      <td>6.986565</td>\n",
       "      <td>4.530370</td>\n",
       "      <td>11.221236</td>\n",
       "      <td>2.757069</td>\n",
       "      <td>2.047340</td>\n",
       "      <td>13.136761</td>\n",
       "      <td>12.583670</td>\n",
       "      <td>7.202767</td>\n",
       "      <td>3.808468</td>\n",
       "      <td>...</td>\n",
       "      <td>5.337547</td>\n",
       "      <td>9.742063</td>\n",
       "      <td>2.762671</td>\n",
       "      <td>13.794473</td>\n",
       "      <td>6.655484</td>\n",
       "      <td>5.147637</td>\n",
       "      <td>6.947769</td>\n",
       "      <td>5.765632</td>\n",
       "      <td>8.277420</td>\n",
       "      <td>5.275998</td>\n",
       "    </tr>\n",
       "    <tr>\n",
       "      <th>7559</th>\n",
       "      <td>4.415018</td>\n",
       "      <td>7.009136</td>\n",
       "      <td>4.516820</td>\n",
       "      <td>11.190965</td>\n",
       "      <td>2.738439</td>\n",
       "      <td>2.065404</td>\n",
       "      <td>13.191020</td>\n",
       "      <td>12.673346</td>\n",
       "      <td>7.189898</td>\n",
       "      <td>3.806343</td>\n",
       "      <td>...</td>\n",
       "      <td>5.320842</td>\n",
       "      <td>9.815095</td>\n",
       "      <td>2.746972</td>\n",
       "      <td>13.688992</td>\n",
       "      <td>6.708321</td>\n",
       "      <td>5.152956</td>\n",
       "      <td>6.954506</td>\n",
       "      <td>5.714339</td>\n",
       "      <td>8.261120</td>\n",
       "      <td>5.236397</td>\n",
       "    </tr>\n",
       "    <tr>\n",
       "      <th>7560</th>\n",
       "      <td>4.402853</td>\n",
       "      <td>6.985306</td>\n",
       "      <td>4.490815</td>\n",
       "      <td>11.085841</td>\n",
       "      <td>2.754680</td>\n",
       "      <td>2.056870</td>\n",
       "      <td>13.172880</td>\n",
       "      <td>12.572397</td>\n",
       "      <td>7.201346</td>\n",
       "      <td>3.794023</td>\n",
       "      <td>...</td>\n",
       "      <td>5.311310</td>\n",
       "      <td>9.856406</td>\n",
       "      <td>2.764564</td>\n",
       "      <td>13.788883</td>\n",
       "      <td>6.742318</td>\n",
       "      <td>5.170513</td>\n",
       "      <td>6.983785</td>\n",
       "      <td>5.661281</td>\n",
       "      <td>8.320140</td>\n",
       "      <td>5.196980</td>\n",
       "    </tr>\n",
       "  </tbody>\n",
       "</table>\n",
       "<p>7561 rows × 500 columns</p>\n",
       "</div>"
      ],
      "text/plain": [
       "           0         1         2          3         4         5          6    \\\n",
       "0     1.000000  1.000000  1.000000   1.000000  1.000000  1.000000   1.000000   \n",
       "1     0.988949  1.001171  1.001701   0.995435  1.005337  1.000124   1.013477   \n",
       "2     0.984310  1.002138  1.008990   0.990903  0.999922  0.993152   1.027702   \n",
       "3     0.976152  0.997210  0.999594   0.991201  0.999779  0.987880   1.017783   \n",
       "4     0.967041  1.002656  1.001571   0.988823  1.000059  0.988300   1.022421   \n",
       "...        ...       ...       ...        ...       ...       ...        ...   \n",
       "7556  4.438671  6.914076  4.559351  11.476912  2.735529  2.065807  13.243169   \n",
       "7557  4.451433  6.923662  4.524317  11.302439  2.753090  2.054653  13.168944   \n",
       "7558  4.423021  6.986565  4.530370  11.221236  2.757069  2.047340  13.136761   \n",
       "7559  4.415018  7.009136  4.516820  11.190965  2.738439  2.065404  13.191020   \n",
       "7560  4.402853  6.985306  4.490815  11.085841  2.754680  2.056870  13.172880   \n",
       "\n",
       "            7         8         9    ...       490       491       492  \\\n",
       "0      1.000000  1.000000  1.000000  ...  1.000000  1.000000  1.000000   \n",
       "1      0.996308  0.986464  0.989580  ...  1.000716  0.999925  1.002940   \n",
       "2      1.000629  0.985961  0.992086  ...  0.996940  0.996984  1.008488   \n",
       "3      1.005718  0.972744  0.991916  ...  1.006414  0.998667  1.008286   \n",
       "4      1.000173  0.969820  0.995226  ...  1.015034  0.999158  1.001753   \n",
       "...         ...       ...       ...  ...       ...       ...       ...   \n",
       "7556  12.749224  7.150957  3.807616  ...  5.369020  9.730972  2.728382   \n",
       "7557  12.790887  7.182428  3.814132  ...  5.313563  9.814224  2.732949   \n",
       "7558  12.583670  7.202767  3.808468  ...  5.337547  9.742063  2.762671   \n",
       "7559  12.673346  7.189898  3.806343  ...  5.320842  9.815095  2.746972   \n",
       "7560  12.572397  7.201346  3.794023  ...  5.311310  9.856406  2.764564   \n",
       "\n",
       "            493       494       495       496       497       498       499  \n",
       "0      1.000000  1.000000  1.000000  1.000000  1.000000  1.000000  1.000000  \n",
       "1      0.995495  0.991184  0.994673  0.994055  1.006337  0.999458  1.008631  \n",
       "2      1.004018  0.992629  0.992556  0.997473  1.009322  1.000320  1.016645  \n",
       "3      0.998275  0.989987  0.986239  1.002614  1.023326  1.002644  1.022639  \n",
       "4      0.995043  0.995649  0.988847  1.002752  1.022744  1.000634  1.027492  \n",
       "...         ...       ...       ...       ...       ...       ...       ...  \n",
       "7556  13.832423  6.659990  5.122734  6.929869  5.770498  8.268537  5.289907  \n",
       "7557  13.848464  6.641245  5.168864  6.978754  5.771432  8.336381  5.298401  \n",
       "7558  13.794473  6.655484  5.147637  6.947769  5.765632  8.277420  5.275998  \n",
       "7559  13.688992  6.708321  5.152956  6.954506  5.714339  8.261120  5.236397  \n",
       "7560  13.788883  6.742318  5.170513  6.983785  5.661281  8.320140  5.196980  \n",
       "\n",
       "[7561 rows x 500 columns]"
      ]
     },
     "execution_count": 112,
     "metadata": {},
     "output_type": "execute_result"
    }
   ],
   "source": [
    "# Run the Monte Carlo simulation to forecast 30 years cumulative returns\n",
    "MCS_30y.calc_cumulative_return()"
   ]
  },
  {
   "cell_type": "code",
   "execution_count": 115,
   "metadata": {},
   "outputs": [
    {
     "data": {
      "image/png": "[encoded data removed]",
      "text/plain": [
       "<Figure size 432x288 with 1 Axes>"
      ]
     },
     "metadata": {
      "needs_background": "light"
     },
     "output_type": "display_data"
    }
   ],
   "source": [
    "# Visualize the 30-year Monte Carlo simulation by creating an\n",
    "# overlay line plot\n",
    "MCS_30y_line_plot = MCS_30y.plot_simulation()\n",
    "MCS_30y_line_plot.get_figure().savefig(\"MCS_30_Year_Sim_Plot.png\",bbox_inches=\"tight\")"
   ]
  },
  {
   "cell_type": "markdown",
   "metadata": {},
   "source": [
    "#### Step 3: Plot the probability distribution of the Monte Carlo simulation."
   ]
  },
  {
   "cell_type": "code",
   "execution_count": 116,
   "metadata": {},
   "outputs": [
    {
     "data": {
      "image/png": "[encoded data removed]",
      "text/plain": [
       "<Figure size 432x288 with 1 Axes>"
      ]
     },
     "metadata": {
      "needs_background": "light"
     },
     "output_type": "display_data"
    }
   ],
   "source": [
    "# Visualize the probability distribution of the 30-year Monte Carlo simulation \n",
    "# by plotting a histogram\n",
    "MCS_30y_DP = MCS_30y.plot_distribution()\n",
    "MCS_30y_DP.get_figure().savefig(\"MC_30_Year_Distribution_simulation\",bbox_inches=\"tight\")"
   ]
  },
  {
   "cell_type": "markdown",
   "metadata": {},
   "source": [
    "#### Step 4: Generate the summary statistics for the Monte Carlo simulation."
   ]
  },
  {
   "cell_type": "code",
   "execution_count": 120,
   "metadata": {},
   "outputs": [
    {
     "data": {
      "text/plain": [
       "count           500.000000\n",
       "mean              7.741421\n",
       "std               4.354259\n",
       "min               1.194442\n",
       "25%               4.715945\n",
       "50%               6.756822\n",
       "75%               9.635872\n",
       "max              32.596362\n",
       "95% CI Lower      2.533124\n",
       "95% CI Upper     19.370781\n",
       "Name: 7560, dtype: float64"
      ]
     },
     "execution_count": 120,
     "metadata": {},
     "output_type": "execute_result"
    }
   ],
   "source": [
    "# Generate summary statistics from the 30-year Monte Carlo simulation results\n",
    "# Save the results as a variable\n",
    "summary_satistics_30y = MCS_30y.summarize_cumulative_return()\n",
    "\n",
    "\n",
    "# Review the 30-year Monte Carlo summary statistics\n",
    "summary_satistics_30y"
   ]
  },
  {
   "cell_type": "markdown",
   "metadata": {},
   "source": [
    "### Analyze the Retirement Portfolio Forecasts\n",
    "\n",
    "Using the current value of only the stock and bond portion of the member's portfolio and the summary statistics that you generated from the Monte Carlo simulation, answer the following question in your Jupyter notebook:\n",
    "\n",
    "-  What are the lower and upper bounds for the expected value of the portfolio with a 95% confidence interval?\n"
   ]
  },
  {
   "cell_type": "code",
   "execution_count": 125,
   "metadata": {},
   "outputs": [
    {
     "name": "stdout",
     "output_type": "stream",
     "text": [
      "The current balance of the stock and bond portion of the members portfolio is: $60688.70\n"
     ]
    }
   ],
   "source": [
    "# Print the current balance of the stock and bond portion of the members portfolio\n",
    "print(f'The current balance of the stock and bond portion of the members portfolio is: ${(total_stocks_bonds):.2f}')"
   ]
  },
  {
   "cell_type": "code",
   "execution_count": 140,
   "metadata": {},
   "outputs": [
    {
     "name": "stdout",
     "output_type": "stream",
     "text": [
      "There is a 95% chance that the possible outcome in the portfolio over the next 30 years will end within the range of $153732.02 and $1175587.52.\n"
     ]
    }
   ],
   "source": [
    "# Use the lower and upper `95%` confidence intervals to calculate the range of the possible outcomes for the current stock/bond portfolio\n",
    "ci_lower_thirty_cumulative_return = summary_satistics_30y[8] * total_stocks_bonds\n",
    "ci_upper_thirty_cumulative_return = summary_satistics_30y[9] * total_stocks_bonds\n",
    "\n",
    "# Print the result of your calculations\n",
    "print(f'There is a 95% chance that the possible outcome in the portfolio'\n",
    "      f' over the next 30 years will end within the range of'\n",
    "      f' ${ci_lower_thirty_cumulative_return:.2f} and ${ci_upper_thirty_cumulative_return:.2f}.')"
   ]
  },
  {
   "cell_type": "markdown",
   "metadata": {},
   "source": [
    "### Forecast Cumulative Returns in 10 Years\n",
    "\n",
    "The CTO of the credit union is impressed with your work on these planning tools but wonders if 30 years is a long time to wait until retirement. So, your next task is to adjust the retirement portfolio and run a new Monte Carlo simulation to find out if the changes will allow members to retire earlier.\n",
    "\n",
    "For this new Monte Carlo simulation, do the following: \n",
    "\n",
    "- Forecast the cumulative returns for 10 years from now. Because of the shortened investment horizon (30 years to 10 years), the portfolio needs to invest more heavily in the riskier asset&mdash;that is, stock&mdash;to help accumulate wealth for retirement. \n",
    "\n",
    "- Adjust the weights of the retirement portfolio so that the composition for the Monte Carlo simulation consists of 20% bonds and 80% stocks. \n",
    "\n",
    "- Run the simulation over 500 samples, and use the same data that the API call to Alpaca generated.\n",
    "\n",
    "- Based on the new Monte Carlo simulation, answer the following questions in your Jupyter notebook:\n",
    "\n",
    "    - Using the current value of only the stock and bond portion of the member's portfolio and the summary statistics that you generated from the new Monte Carlo simulation, what are the lower and upper bounds for the expected value of the portfolio (with the new weights) with a 95% confidence interval?\n",
    "\n",
    "    - Will weighting the portfolio more heavily toward stocks allow the credit union members to retire after only 10 years?\n"
   ]
  },
  {
   "cell_type": "code",
   "execution_count": 151,
   "metadata": {},
   "outputs": [
    {
     "data": {
      "text/html": [
       "<div>\n",
       "<style scoped>\n",
       "    .dataframe tbody tr th:only-of-type {\n",
       "        vertical-align: middle;\n",
       "    }\n",
       "\n",
       "    .dataframe tbody tr th {\n",
       "        vertical-align: top;\n",
       "    }\n",
       "\n",
       "    .dataframe thead tr th {\n",
       "        text-align: left;\n",
       "    }\n",
       "\n",
       "    .dataframe thead tr:last-of-type th {\n",
       "        text-align: right;\n",
       "    }\n",
       "</style>\n",
       "<table border=\"1\" class=\"dataframe\">\n",
       "  <thead>\n",
       "    <tr>\n",
       "      <th></th>\n",
       "      <th colspan=\"8\" halign=\"left\">SPY</th>\n",
       "      <th colspan=\"8\" halign=\"left\">AGG</th>\n",
       "    </tr>\n",
       "    <tr>\n",
       "      <th></th>\n",
       "      <th>open</th>\n",
       "      <th>high</th>\n",
       "      <th>low</th>\n",
       "      <th>close</th>\n",
       "      <th>volume</th>\n",
       "      <th>trade_count</th>\n",
       "      <th>vwap</th>\n",
       "      <th>daily_return</th>\n",
       "      <th>open</th>\n",
       "      <th>high</th>\n",
       "      <th>low</th>\n",
       "      <th>close</th>\n",
       "      <th>volume</th>\n",
       "      <th>trade_count</th>\n",
       "      <th>vwap</th>\n",
       "      <th>daily_return</th>\n",
       "    </tr>\n",
       "    <tr>\n",
       "      <th>timestamp</th>\n",
       "      <th></th>\n",
       "      <th></th>\n",
       "      <th></th>\n",
       "      <th></th>\n",
       "      <th></th>\n",
       "      <th></th>\n",
       "      <th></th>\n",
       "      <th></th>\n",
       "      <th></th>\n",
       "      <th></th>\n",
       "      <th></th>\n",
       "      <th></th>\n",
       "      <th></th>\n",
       "      <th></th>\n",
       "      <th></th>\n",
       "      <th></th>\n",
       "    </tr>\n",
       "  </thead>\n",
       "  <tbody>\n",
       "    <tr>\n",
       "      <th>2017-08-07 04:00:00+00:00</th>\n",
       "      <td>247.50</td>\n",
       "      <td>247.87</td>\n",
       "      <td>247.37</td>\n",
       "      <td>247.87</td>\n",
       "      <td>31995021</td>\n",
       "      <td>100111</td>\n",
       "      <td>247.668698</td>\n",
       "      <td>NaN</td>\n",
       "      <td>109.69</td>\n",
       "      <td>109.72</td>\n",
       "      <td>109.6066</td>\n",
       "      <td>109.67</td>\n",
       "      <td>2359826</td>\n",
       "      <td>7755</td>\n",
       "      <td>109.674876</td>\n",
       "      <td>NaN</td>\n",
       "    </tr>\n",
       "    <tr>\n",
       "      <th>2017-08-08 04:00:00+00:00</th>\n",
       "      <td>247.49</td>\n",
       "      <td>248.91</td>\n",
       "      <td>246.83</td>\n",
       "      <td>247.26</td>\n",
       "      <td>61719353</td>\n",
       "      <td>192921</td>\n",
       "      <td>247.739709</td>\n",
       "      <td>-0.002461</td>\n",
       "      <td>109.67</td>\n",
       "      <td>109.69</td>\n",
       "      <td>109.5000</td>\n",
       "      <td>109.57</td>\n",
       "      <td>2570876</td>\n",
       "      <td>12663</td>\n",
       "      <td>109.577636</td>\n",
       "      <td>-0.000912</td>\n",
       "    </tr>\n",
       "    <tr>\n",
       "      <th>2017-08-09 04:00:00+00:00</th>\n",
       "      <td>246.46</td>\n",
       "      <td>247.31</td>\n",
       "      <td>246.06</td>\n",
       "      <td>247.25</td>\n",
       "      <td>62632619</td>\n",
       "      <td>223650</td>\n",
       "      <td>246.791421</td>\n",
       "      <td>-0.000040</td>\n",
       "      <td>109.87</td>\n",
       "      <td>109.87</td>\n",
       "      <td>109.6600</td>\n",
       "      <td>109.67</td>\n",
       "      <td>2308932</td>\n",
       "      <td>11031</td>\n",
       "      <td>109.771749</td>\n",
       "      <td>0.000913</td>\n",
       "    </tr>\n",
       "    <tr>\n",
       "      <th>2017-08-10 04:00:00+00:00</th>\n",
       "      <td>246.30</td>\n",
       "      <td>246.44</td>\n",
       "      <td>243.70</td>\n",
       "      <td>243.76</td>\n",
       "      <td>120418270</td>\n",
       "      <td>424321</td>\n",
       "      <td>245.027847</td>\n",
       "      <td>-0.014115</td>\n",
       "      <td>109.70</td>\n",
       "      <td>109.85</td>\n",
       "      <td>109.6700</td>\n",
       "      <td>109.78</td>\n",
       "      <td>2004163</td>\n",
       "      <td>12437</td>\n",
       "      <td>109.776611</td>\n",
       "      <td>0.001003</td>\n",
       "    </tr>\n",
       "    <tr>\n",
       "      <th>2017-08-11 04:00:00+00:00</th>\n",
       "      <td>244.00</td>\n",
       "      <td>244.80</td>\n",
       "      <td>243.75</td>\n",
       "      <td>244.12</td>\n",
       "      <td>74869947</td>\n",
       "      <td>278786</td>\n",
       "      <td>244.222867</td>\n",
       "      <td>0.001477</td>\n",
       "      <td>109.75</td>\n",
       "      <td>109.94</td>\n",
       "      <td>109.6800</td>\n",
       "      <td>109.87</td>\n",
       "      <td>1913253</td>\n",
       "      <td>10113</td>\n",
       "      <td>109.860974</td>\n",
       "      <td>0.000820</td>\n",
       "    </tr>\n",
       "  </tbody>\n",
       "</table>\n",
       "</div>"
      ],
      "text/plain": [
       "                              SPY                                     \\\n",
       "                             open    high     low   close     volume   \n",
       "timestamp                                                              \n",
       "2017-08-07 04:00:00+00:00  247.50  247.87  247.37  247.87   31995021   \n",
       "2017-08-08 04:00:00+00:00  247.49  248.91  246.83  247.26   61719353   \n",
       "2017-08-09 04:00:00+00:00  246.46  247.31  246.06  247.25   62632619   \n",
       "2017-08-10 04:00:00+00:00  246.30  246.44  243.70  243.76  120418270   \n",
       "2017-08-11 04:00:00+00:00  244.00  244.80  243.75  244.12   74869947   \n",
       "\n",
       "                                                                   AGG  \\\n",
       "                          trade_count        vwap daily_return    open   \n",
       "timestamp                                                                \n",
       "2017-08-07 04:00:00+00:00      100111  247.668698          NaN  109.69   \n",
       "2017-08-08 04:00:00+00:00      192921  247.739709    -0.002461  109.67   \n",
       "2017-08-09 04:00:00+00:00      223650  246.791421    -0.000040  109.87   \n",
       "2017-08-10 04:00:00+00:00      424321  245.027847    -0.014115  109.70   \n",
       "2017-08-11 04:00:00+00:00      278786  244.222867     0.001477  109.75   \n",
       "\n",
       "                                                                          \\\n",
       "                             high       low   close   volume trade_count   \n",
       "timestamp                                                                  \n",
       "2017-08-07 04:00:00+00:00  109.72  109.6066  109.67  2359826        7755   \n",
       "2017-08-08 04:00:00+00:00  109.69  109.5000  109.57  2570876       12663   \n",
       "2017-08-09 04:00:00+00:00  109.87  109.6600  109.67  2308932       11031   \n",
       "2017-08-10 04:00:00+00:00  109.85  109.6700  109.78  2004163       12437   \n",
       "2017-08-11 04:00:00+00:00  109.94  109.6800  109.87  1913253       10113   \n",
       "\n",
       "                                                    \n",
       "                                 vwap daily_return  \n",
       "timestamp                                           \n",
       "2017-08-07 04:00:00+00:00  109.674876          NaN  \n",
       "2017-08-08 04:00:00+00:00  109.577636    -0.000912  \n",
       "2017-08-09 04:00:00+00:00  109.771749     0.000913  \n",
       "2017-08-10 04:00:00+00:00  109.776611     0.001003  \n",
       "2017-08-11 04:00:00+00:00  109.860974     0.000820  "
      ]
     },
     "execution_count": 151,
     "metadata": {},
     "output_type": "execute_result"
    }
   ],
   "source": [
    "# Configure a Monte Carlo simulation to forecast 10 years cumulative returns\n",
    "# The weights should be split 20% to AGG and 80% to SPY.\n",
    "# Run 500 samples.\n",
    "mcs_10yrs = MCSimulation(\n",
    "    portfolio_data = prices_df,\n",
    "    weights = [.20,.80],\n",
    "    num_simulation = 500,\n",
    "    num_trading_days = 252*10\n",
    ")\n",
    "\n",
    "# Review the simulation input data\n",
    "mcs_10yrs.portfolio_data.head()"
   ]
  },
  {
   "cell_type": "code",
   "execution_count": 152,
   "metadata": {},
   "outputs": [
    {
     "name": "stdout",
     "output_type": "stream",
     "text": [
      "Running Monte Carlo simulation number 0.\n",
      "Running Monte Carlo simulation number 10.\n",
      "Running Monte Carlo simulation number 20.\n",
      "Running Monte Carlo simulation number 30.\n",
      "Running Monte Carlo simulation number 40.\n",
      "Running Monte Carlo simulation number 50.\n",
      "Running Monte Carlo simulation number 60.\n",
      "Running Monte Carlo simulation number 70.\n",
      "Running Monte Carlo simulation number 80.\n",
      "Running Monte Carlo simulation number 90.\n",
      "Running Monte Carlo simulation number 100.\n"
     ]
    },
    {
     "name": "stderr",
     "output_type": "stream",
     "text": [
      "/Users/dbyun/Desktop/Mod5Challenge/m5challenge/MCForecastTools.py:117: PerformanceWarning: DataFrame is highly fragmented.  This is usually the result of calling `frame.insert` many times, which has poor performance.  Consider joining all columns at once using pd.concat(axis=1) instead.  To get a de-fragmented frame, use `newframe = frame.copy()`\n",
      "  portfolio_cumulative_returns[n] = (1 + sim_df.fillna(0)).cumprod()\n"
     ]
    },
    {
     "name": "stdout",
     "output_type": "stream",
     "text": [
      "Running Monte Carlo simulation number 110.\n",
      "Running Monte Carlo simulation number 120.\n",
      "Running Monte Carlo simulation number 130.\n",
      "Running Monte Carlo simulation number 140.\n",
      "Running Monte Carlo simulation number 150.\n",
      "Running Monte Carlo simulation number 160.\n",
      "Running Monte Carlo simulation number 170.\n",
      "Running Monte Carlo simulation number 180.\n",
      "Running Monte Carlo simulation number 190.\n",
      "Running Monte Carlo simulation number 200.\n",
      "Running Monte Carlo simulation number 210.\n",
      "Running Monte Carlo simulation number 220.\n",
      "Running Monte Carlo simulation number 230.\n",
      "Running Monte Carlo simulation number 240.\n",
      "Running Monte Carlo simulation number 250.\n",
      "Running Monte Carlo simulation number 260.\n",
      "Running Monte Carlo simulation number 270.\n",
      "Running Monte Carlo simulation number 280.\n",
      "Running Monte Carlo simulation number 290.\n",
      "Running Monte Carlo simulation number 300.\n",
      "Running Monte Carlo simulation number 310.\n",
      "Running Monte Carlo simulation number 320.\n",
      "Running Monte Carlo simulation number 330.\n",
      "Running Monte Carlo simulation number 340.\n",
      "Running Monte Carlo simulation number 350.\n",
      "Running Monte Carlo simulation number 360.\n",
      "Running Monte Carlo simulation number 370.\n",
      "Running Monte Carlo simulation number 380.\n",
      "Running Monte Carlo simulation number 390.\n",
      "Running Monte Carlo simulation number 400.\n",
      "Running Monte Carlo simulation number 410.\n",
      "Running Monte Carlo simulation number 420.\n",
      "Running Monte Carlo simulation number 430.\n",
      "Running Monte Carlo simulation number 440.\n",
      "Running Monte Carlo simulation number 450.\n",
      "Running Monte Carlo simulation number 460.\n",
      "Running Monte Carlo simulation number 470.\n",
      "Running Monte Carlo simulation number 480.\n",
      "Running Monte Carlo simulation number 490.\n"
     ]
    },
    {
     "data": {
      "text/html": [
       "<div>\n",
       "<style scoped>\n",
       "    .dataframe tbody tr th:only-of-type {\n",
       "        vertical-align: middle;\n",
       "    }\n",
       "\n",
       "    .dataframe tbody tr th {\n",
       "        vertical-align: top;\n",
       "    }\n",
       "\n",
       "    .dataframe thead th {\n",
       "        text-align: right;\n",
       "    }\n",
       "</style>\n",
       "<table border=\"1\" class=\"dataframe\">\n",
       "  <thead>\n",
       "    <tr style=\"text-align: right;\">\n",
       "      <th></th>\n",
       "      <th>0</th>\n",
       "      <th>1</th>\n",
       "      <th>2</th>\n",
       "      <th>3</th>\n",
       "      <th>4</th>\n",
       "      <th>5</th>\n",
       "      <th>6</th>\n",
       "      <th>7</th>\n",
       "      <th>8</th>\n",
       "      <th>9</th>\n",
       "      <th>...</th>\n",
       "      <th>490</th>\n",
       "      <th>491</th>\n",
       "      <th>492</th>\n",
       "      <th>493</th>\n",
       "      <th>494</th>\n",
       "      <th>495</th>\n",
       "      <th>496</th>\n",
       "      <th>497</th>\n",
       "      <th>498</th>\n",
       "      <th>499</th>\n",
       "    </tr>\n",
       "  </thead>\n",
       "  <tbody>\n",
       "    <tr>\n",
       "      <th>0</th>\n",
       "      <td>1.000000</td>\n",
       "      <td>1.000000</td>\n",
       "      <td>1.000000</td>\n",
       "      <td>1.000000</td>\n",
       "      <td>1.000000</td>\n",
       "      <td>1.000000</td>\n",
       "      <td>1.000000</td>\n",
       "      <td>1.000000</td>\n",
       "      <td>1.000000</td>\n",
       "      <td>1.000000</td>\n",
       "      <td>...</td>\n",
       "      <td>1.000000</td>\n",
       "      <td>1.000000</td>\n",
       "      <td>1.000000</td>\n",
       "      <td>1.000000</td>\n",
       "      <td>1.000000</td>\n",
       "      <td>1.000000</td>\n",
       "      <td>1.000000</td>\n",
       "      <td>1.000000</td>\n",
       "      <td>1.000000</td>\n",
       "      <td>1.000000</td>\n",
       "    </tr>\n",
       "    <tr>\n",
       "      <th>1</th>\n",
       "      <td>0.995617</td>\n",
       "      <td>0.998725</td>\n",
       "      <td>1.005567</td>\n",
       "      <td>1.000732</td>\n",
       "      <td>0.996291</td>\n",
       "      <td>0.993030</td>\n",
       "      <td>0.996862</td>\n",
       "      <td>0.993189</td>\n",
       "      <td>1.001355</td>\n",
       "      <td>1.000340</td>\n",
       "      <td>...</td>\n",
       "      <td>1.001560</td>\n",
       "      <td>1.001390</td>\n",
       "      <td>1.003210</td>\n",
       "      <td>0.996162</td>\n",
       "      <td>0.999478</td>\n",
       "      <td>1.006041</td>\n",
       "      <td>0.999037</td>\n",
       "      <td>0.994538</td>\n",
       "      <td>1.003733</td>\n",
       "      <td>0.999974</td>\n",
       "    </tr>\n",
       "    <tr>\n",
       "      <th>2</th>\n",
       "      <td>0.997183</td>\n",
       "      <td>1.008701</td>\n",
       "      <td>1.007351</td>\n",
       "      <td>0.994939</td>\n",
       "      <td>0.996403</td>\n",
       "      <td>0.997343</td>\n",
       "      <td>1.000682</td>\n",
       "      <td>0.993666</td>\n",
       "      <td>1.003551</td>\n",
       "      <td>0.995461</td>\n",
       "      <td>...</td>\n",
       "      <td>0.998998</td>\n",
       "      <td>1.007935</td>\n",
       "      <td>1.002316</td>\n",
       "      <td>1.001039</td>\n",
       "      <td>1.001319</td>\n",
       "      <td>1.009371</td>\n",
       "      <td>0.998600</td>\n",
       "      <td>0.996612</td>\n",
       "      <td>1.006613</td>\n",
       "      <td>0.999935</td>\n",
       "    </tr>\n",
       "    <tr>\n",
       "      <th>3</th>\n",
       "      <td>0.998678</td>\n",
       "      <td>1.014703</td>\n",
       "      <td>1.003969</td>\n",
       "      <td>0.995654</td>\n",
       "      <td>1.001281</td>\n",
       "      <td>0.997134</td>\n",
       "      <td>1.005027</td>\n",
       "      <td>0.995425</td>\n",
       "      <td>1.003095</td>\n",
       "      <td>0.996602</td>\n",
       "      <td>...</td>\n",
       "      <td>1.003550</td>\n",
       "      <td>1.009151</td>\n",
       "      <td>1.004532</td>\n",
       "      <td>0.994598</td>\n",
       "      <td>0.998616</td>\n",
       "      <td>1.011208</td>\n",
       "      <td>0.991221</td>\n",
       "      <td>1.000700</td>\n",
       "      <td>1.007751</td>\n",
       "      <td>0.998023</td>\n",
       "    </tr>\n",
       "    <tr>\n",
       "      <th>4</th>\n",
       "      <td>1.004830</td>\n",
       "      <td>1.018030</td>\n",
       "      <td>1.003785</td>\n",
       "      <td>0.999907</td>\n",
       "      <td>1.003592</td>\n",
       "      <td>0.997266</td>\n",
       "      <td>1.000272</td>\n",
       "      <td>0.995997</td>\n",
       "      <td>1.009101</td>\n",
       "      <td>0.995400</td>\n",
       "      <td>...</td>\n",
       "      <td>1.006273</td>\n",
       "      <td>1.011366</td>\n",
       "      <td>1.005240</td>\n",
       "      <td>1.000020</td>\n",
       "      <td>0.995633</td>\n",
       "      <td>1.016311</td>\n",
       "      <td>0.998555</td>\n",
       "      <td>0.994656</td>\n",
       "      <td>1.003308</td>\n",
       "      <td>0.995769</td>\n",
       "    </tr>\n",
       "    <tr>\n",
       "      <th>...</th>\n",
       "      <td>...</td>\n",
       "      <td>...</td>\n",
       "      <td>...</td>\n",
       "      <td>...</td>\n",
       "      <td>...</td>\n",
       "      <td>...</td>\n",
       "      <td>...</td>\n",
       "      <td>...</td>\n",
       "      <td>...</td>\n",
       "      <td>...</td>\n",
       "      <td>...</td>\n",
       "      <td>...</td>\n",
       "      <td>...</td>\n",
       "      <td>...</td>\n",
       "      <td>...</td>\n",
       "      <td>...</td>\n",
       "      <td>...</td>\n",
       "      <td>...</td>\n",
       "      <td>...</td>\n",
       "      <td>...</td>\n",
       "      <td>...</td>\n",
       "    </tr>\n",
       "    <tr>\n",
       "      <th>2516</th>\n",
       "      <td>1.694034</td>\n",
       "      <td>1.331997</td>\n",
       "      <td>1.573603</td>\n",
       "      <td>2.513107</td>\n",
       "      <td>1.457700</td>\n",
       "      <td>1.689130</td>\n",
       "      <td>1.493162</td>\n",
       "      <td>1.416571</td>\n",
       "      <td>1.228551</td>\n",
       "      <td>1.660367</td>\n",
       "      <td>...</td>\n",
       "      <td>1.061976</td>\n",
       "      <td>1.540904</td>\n",
       "      <td>1.072184</td>\n",
       "      <td>1.073100</td>\n",
       "      <td>2.073262</td>\n",
       "      <td>1.910407</td>\n",
       "      <td>1.824149</td>\n",
       "      <td>1.120673</td>\n",
       "      <td>1.855125</td>\n",
       "      <td>1.797432</td>\n",
       "    </tr>\n",
       "    <tr>\n",
       "      <th>2517</th>\n",
       "      <td>1.681269</td>\n",
       "      <td>1.333623</td>\n",
       "      <td>1.576090</td>\n",
       "      <td>2.509405</td>\n",
       "      <td>1.453961</td>\n",
       "      <td>1.685246</td>\n",
       "      <td>1.486015</td>\n",
       "      <td>1.414010</td>\n",
       "      <td>1.236583</td>\n",
       "      <td>1.652536</td>\n",
       "      <td>...</td>\n",
       "      <td>1.057039</td>\n",
       "      <td>1.544550</td>\n",
       "      <td>1.070108</td>\n",
       "      <td>1.072186</td>\n",
       "      <td>2.086402</td>\n",
       "      <td>1.909248</td>\n",
       "      <td>1.818723</td>\n",
       "      <td>1.125890</td>\n",
       "      <td>1.849451</td>\n",
       "      <td>1.793343</td>\n",
       "    </tr>\n",
       "    <tr>\n",
       "      <th>2518</th>\n",
       "      <td>1.687938</td>\n",
       "      <td>1.337075</td>\n",
       "      <td>1.579967</td>\n",
       "      <td>2.504027</td>\n",
       "      <td>1.454654</td>\n",
       "      <td>1.683276</td>\n",
       "      <td>1.478576</td>\n",
       "      <td>1.411063</td>\n",
       "      <td>1.240486</td>\n",
       "      <td>1.648030</td>\n",
       "      <td>...</td>\n",
       "      <td>1.053629</td>\n",
       "      <td>1.553568</td>\n",
       "      <td>1.067409</td>\n",
       "      <td>1.080305</td>\n",
       "      <td>2.071852</td>\n",
       "      <td>1.912933</td>\n",
       "      <td>1.820072</td>\n",
       "      <td>1.125992</td>\n",
       "      <td>1.858731</td>\n",
       "      <td>1.800535</td>\n",
       "    </tr>\n",
       "    <tr>\n",
       "      <th>2519</th>\n",
       "      <td>1.692971</td>\n",
       "      <td>1.341647</td>\n",
       "      <td>1.565007</td>\n",
       "      <td>2.512546</td>\n",
       "      <td>1.460012</td>\n",
       "      <td>1.681619</td>\n",
       "      <td>1.479193</td>\n",
       "      <td>1.407886</td>\n",
       "      <td>1.245618</td>\n",
       "      <td>1.641421</td>\n",
       "      <td>...</td>\n",
       "      <td>1.056826</td>\n",
       "      <td>1.555748</td>\n",
       "      <td>1.070806</td>\n",
       "      <td>1.077478</td>\n",
       "      <td>2.072024</td>\n",
       "      <td>1.918923</td>\n",
       "      <td>1.809520</td>\n",
       "      <td>1.126237</td>\n",
       "      <td>1.868286</td>\n",
       "      <td>1.797090</td>\n",
       "    </tr>\n",
       "    <tr>\n",
       "      <th>2520</th>\n",
       "      <td>1.690050</td>\n",
       "      <td>1.349171</td>\n",
       "      <td>1.556396</td>\n",
       "      <td>2.523077</td>\n",
       "      <td>1.456043</td>\n",
       "      <td>1.697964</td>\n",
       "      <td>1.472449</td>\n",
       "      <td>1.425041</td>\n",
       "      <td>1.239002</td>\n",
       "      <td>1.642556</td>\n",
       "      <td>...</td>\n",
       "      <td>1.052279</td>\n",
       "      <td>1.555087</td>\n",
       "      <td>1.066695</td>\n",
       "      <td>1.077586</td>\n",
       "      <td>2.070279</td>\n",
       "      <td>1.909589</td>\n",
       "      <td>1.808402</td>\n",
       "      <td>1.118894</td>\n",
       "      <td>1.879812</td>\n",
       "      <td>1.794441</td>\n",
       "    </tr>\n",
       "  </tbody>\n",
       "</table>\n",
       "<p>2521 rows × 500 columns</p>\n",
       "</div>"
      ],
      "text/plain": [
       "           0         1         2         3         4         5         6    \\\n",
       "0     1.000000  1.000000  1.000000  1.000000  1.000000  1.000000  1.000000   \n",
       "1     0.995617  0.998725  1.005567  1.000732  0.996291  0.993030  0.996862   \n",
       "2     0.997183  1.008701  1.007351  0.994939  0.996403  0.997343  1.000682   \n",
       "3     0.998678  1.014703  1.003969  0.995654  1.001281  0.997134  1.005027   \n",
       "4     1.004830  1.018030  1.003785  0.999907  1.003592  0.997266  1.000272   \n",
       "...        ...       ...       ...       ...       ...       ...       ...   \n",
       "2516  1.694034  1.331997  1.573603  2.513107  1.457700  1.689130  1.493162   \n",
       "2517  1.681269  1.333623  1.576090  2.509405  1.453961  1.685246  1.486015   \n",
       "2518  1.687938  1.337075  1.579967  2.504027  1.454654  1.683276  1.478576   \n",
       "2519  1.692971  1.341647  1.565007  2.512546  1.460012  1.681619  1.479193   \n",
       "2520  1.690050  1.349171  1.556396  2.523077  1.456043  1.697964  1.472449   \n",
       "\n",
       "           7         8         9    ...       490       491       492  \\\n",
       "0     1.000000  1.000000  1.000000  ...  1.000000  1.000000  1.000000   \n",
       "1     0.993189  1.001355  1.000340  ...  1.001560  1.001390  1.003210   \n",
       "2     0.993666  1.003551  0.995461  ...  0.998998  1.007935  1.002316   \n",
       "3     0.995425  1.003095  0.996602  ...  1.003550  1.009151  1.004532   \n",
       "4     0.995997  1.009101  0.995400  ...  1.006273  1.011366  1.005240   \n",
       "...        ...       ...       ...  ...       ...       ...       ...   \n",
       "2516  1.416571  1.228551  1.660367  ...  1.061976  1.540904  1.072184   \n",
       "2517  1.414010  1.236583  1.652536  ...  1.057039  1.544550  1.070108   \n",
       "2518  1.411063  1.240486  1.648030  ...  1.053629  1.553568  1.067409   \n",
       "2519  1.407886  1.245618  1.641421  ...  1.056826  1.555748  1.070806   \n",
       "2520  1.425041  1.239002  1.642556  ...  1.052279  1.555087  1.066695   \n",
       "\n",
       "           493       494       495       496       497       498       499  \n",
       "0     1.000000  1.000000  1.000000  1.000000  1.000000  1.000000  1.000000  \n",
       "1     0.996162  0.999478  1.006041  0.999037  0.994538  1.003733  0.999974  \n",
       "2     1.001039  1.001319  1.009371  0.998600  0.996612  1.006613  0.999935  \n",
       "3     0.994598  0.998616  1.011208  0.991221  1.000700  1.007751  0.998023  \n",
       "4     1.000020  0.995633  1.016311  0.998555  0.994656  1.003308  0.995769  \n",
       "...        ...       ...       ...       ...       ...       ...       ...  \n",
       "2516  1.073100  2.073262  1.910407  1.824149  1.120673  1.855125  1.797432  \n",
       "2517  1.072186  2.086402  1.909248  1.818723  1.125890  1.849451  1.793343  \n",
       "2518  1.080305  2.071852  1.912933  1.820072  1.125992  1.858731  1.800535  \n",
       "2519  1.077478  2.072024  1.918923  1.809520  1.126237  1.868286  1.797090  \n",
       "2520  1.077586  2.070279  1.909589  1.808402  1.118894  1.879812  1.794441  \n",
       "\n",
       "[2521 rows x 500 columns]"
      ]
     },
     "execution_count": 152,
     "metadata": {},
     "output_type": "execute_result"
    }
   ],
   "source": [
    "# Run the Monte Carlo simulation to forecast 10 years cumulative returns\n",
    "mcs_10yrs.calc_cumulative_return()"
   ]
  },
  {
   "cell_type": "code",
   "execution_count": 153,
   "metadata": {},
   "outputs": [
    {
     "data": {
      "image/png": "[encoded data removed]",
      "text/plain": [
       "<Figure size 432x288 with 1 Axes>"
      ]
     },
     "metadata": {
      "needs_background": "light"
     },
     "output_type": "display_data"
    }
   ],
   "source": [
    "# Visualize the 10-year Monte Carlo simulation by creating an\n",
    "# overlay line plot\n",
    "mcs_10yrs_line_plot = mcs_10yrs.plot_simulation()\n",
    "\n",
    "mcs_10yrs_line_plot.get_figure().savefig(\"mcs_10years_sim_plot.png\",bbox_inches=\"tight\")"
   ]
  },
  {
   "cell_type": "code",
   "execution_count": 154,
   "metadata": {},
   "outputs": [
    {
     "data": {
      "image/png": "[encoded data removed]",
      "text/plain": [
       "<Figure size 432x288 with 1 Axes>"
      ]
     },
     "metadata": {
      "needs_background": "light"
     },
     "output_type": "display_data"
    }
   ],
   "source": [
    "# Visualize the probability distribution of the 10-year Monte Carlo simulation \n",
    "# by plotting a histogram\n",
    "mcs_10yrs_hist_plot= mcs_10yrs.plot_distribution()\n",
    "mcs_10yrs_hist_plot.get_figure().savefig(\"mcs_10yrs_histo_plot.png\",bbox_inches=\"tight\")"
   ]
  },
  {
   "cell_type": "code",
   "execution_count": 155,
   "metadata": {},
   "outputs": [
    {
     "name": "stdout",
     "output_type": "stream",
     "text": [
      "count           500.000000\n",
      "mean              1.618776\n",
      "std               0.295439\n",
      "min               0.976230\n",
      "25%               1.404691\n",
      "50%               1.587183\n",
      "75%               1.804507\n",
      "max               2.592414\n",
      "95% CI Lower      1.139253\n",
      "95% CI Upper      2.251991\n",
      "Name: 2520, dtype: float64\n"
     ]
    }
   ],
   "source": [
    "# Generate summary statistics from the 10-year Monte Carlo simulation results\n",
    "# Save the results as a variable\n",
    "mcs_10yrs_summary = MCS_10yrs.summarize_cumulative_return()\n",
    "\n",
    "# Review the 10-year Monte Carlo summary statistics\n",
    "print(mcs_10yrs_summary)"
   ]
  },
  {
   "cell_type": "markdown",
   "metadata": {},
   "source": [
    "### Answer the following questions:"
   ]
  },
  {
   "cell_type": "markdown",
   "metadata": {},
   "source": [
    "#### Question: Using the current value of only the stock and bond portion of the member's portfolio and the summary statistics that you generated from the new Monte Carlo simulation, what are the lower and upper bounds for the expected value of the portfolio (with the new weights) with a 95% confidence interval?"
   ]
  },
  {
   "cell_type": "code",
   "execution_count": 156,
   "metadata": {},
   "outputs": [
    {
     "name": "stdout",
     "output_type": "stream",
     "text": [
      "The current balance of the stock and bond portion of the members portfolio is: $60688.70\n"
     ]
    }
   ],
   "source": [
    "# Print the current balance of the stock and bond portion of the members portfolio\n",
    "print(f'The current balance of the stock and bond portion of the members portfolio is: ${(total_stocks_bonds):.2f}')"
   ]
  },
  {
   "cell_type": "code",
   "execution_count": 160,
   "metadata": {},
   "outputs": [
    {
     "name": "stdout",
     "output_type": "stream",
     "text": [
      "There is a 95% chance that expected value of the portfolio over the next 10 years will end within the range of $69139.76 and $136670.43.\n"
     ]
    }
   ],
   "source": [
    "# Use the lower and upper `95%` confidence intervals to calculate the range of the possible outcomes for the current stock/bond portfolio\n",
    "ci_lower_ten_cumulative_return = mcs_10yrs_summary[8] * total_stocks_bonds\n",
    "ci_upper_ten_cumulative_return =  mcs_10yrs_summary[9] * total_stocks_bonds\n",
    "\n",
    "# Print the result of your calculations\n",
    "print(f'There is a 95% chance that expected value of the portfolio'\n",
    "      f' over the next 10 years will end within the range of '\n",
    "      f'${(ci_lower_ten_cumulative_return):.2f} and ${(ci_upper_ten_cumulative_return):.2f}.')"
   ]
  },
  {
   "cell_type": "markdown",
   "metadata": {},
   "source": [
    "#### Question: Will weighting the portfolio more heavily to stocks allow the credit union members to retire after only 10 years?"
   ]
  },
  {
   "cell_type": "raw",
   "metadata": {},
   "source": [
    "**Answer** I don't think member can retire after only 10 years."
   ]
  },
  {
   "cell_type": "code",
   "execution_count": null,
   "metadata": {},
   "outputs": [],
   "source": []
  },
  {
   "cell_type": "code",
   "execution_count": null,
   "metadata": {},
   "outputs": [],
   "source": []
  }
 ],
 "metadata": {
  "kernelspec": {
   "display_name": "Python 3 (ipykernel)",
   "language": "python",
   "name": "python3"
  },
  "language_info": {
   "codemirror_mode": {
    "name": "ipython",
    "version": 3
   },
   "file_extension": ".py",
   "mimetype": "text/x-python",
   "name": "python",
   "nbconvert_exporter": "python",
   "pygments_lexer": "ipython3",
   "version": "3.7.13"
  }
 },
 "nbformat": 4,
 "nbformat_minor": 4
}
